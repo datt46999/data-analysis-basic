{
 "cells": [
  {
   "cell_type": "markdown",
   "metadata": {},
   "source": [
    "# import library"
   ]
  },
  {
   "cell_type": "code",
   "execution_count": 63,
   "metadata": {},
   "outputs": [],
   "source": [
    "import numpy as np\n",
    "import pandas as pd\n",
    "import matplotlib.pyplot as plt\n",
    "import seaborn as sns"
   ]
  },
  {
   "cell_type": "markdown",
   "metadata": {},
   "source": [
    "# Phan 1: thong ke du lieu"
   ]
  },
  {
   "cell_type": "code",
   "execution_count": 3,
   "metadata": {},
   "outputs": [
    {
     "data": {
      "text/html": [
       "<div>\n",
       "<style scoped>\n",
       "    .dataframe tbody tr th:only-of-type {\n",
       "        vertical-align: middle;\n",
       "    }\n",
       "\n",
       "    .dataframe tbody tr th {\n",
       "        vertical-align: top;\n",
       "    }\n",
       "\n",
       "    .dataframe thead th {\n",
       "        text-align: right;\n",
       "    }\n",
       "</style>\n",
       "<table border=\"1\" class=\"dataframe\">\n",
       "  <thead>\n",
       "    <tr style=\"text-align: right;\">\n",
       "      <th></th>\n",
       "      <th>STT</th>\n",
       "      <th>T1</th>\n",
       "      <th>L1</th>\n",
       "      <th>H1</th>\n",
       "      <th>S1</th>\n",
       "      <th>V1</th>\n",
       "      <th>X1</th>\n",
       "      <th>D1</th>\n",
       "      <th>N1</th>\n",
       "      <th>T2</th>\n",
       "      <th>...</th>\n",
       "      <th>TBM1</th>\n",
       "      <th>TBM2</th>\n",
       "      <th>TBM3</th>\n",
       "      <th>XL1</th>\n",
       "      <th>XL2</th>\n",
       "      <th>XL3</th>\n",
       "      <th>US_TBM1</th>\n",
       "      <th>US_TBM2</th>\n",
       "      <th>US_TBM3</th>\n",
       "      <th>KQXT</th>\n",
       "    </tr>\n",
       "  </thead>\n",
       "  <tbody>\n",
       "    <tr>\n",
       "      <th>0</th>\n",
       "      <td>1</td>\n",
       "      <td>7.2</td>\n",
       "      <td>7.3</td>\n",
       "      <td>6.3</td>\n",
       "      <td>7.3</td>\n",
       "      <td>7.0</td>\n",
       "      <td>7.9</td>\n",
       "      <td>7.3</td>\n",
       "      <td>5.5</td>\n",
       "      <td>8.4</td>\n",
       "      <td>...</td>\n",
       "      <td>7.00</td>\n",
       "      <td>7.54</td>\n",
       "      <td>7.06</td>\n",
       "      <td>K</td>\n",
       "      <td>K</td>\n",
       "      <td>K</td>\n",
       "      <td>2.800</td>\n",
       "      <td>3.016</td>\n",
       "      <td>2.824</td>\n",
       "      <td>0</td>\n",
       "    </tr>\n",
       "    <tr>\n",
       "      <th>1</th>\n",
       "      <td>2</td>\n",
       "      <td>5.4</td>\n",
       "      <td>3.9</td>\n",
       "      <td>3.9</td>\n",
       "      <td>4.0</td>\n",
       "      <td>5.4</td>\n",
       "      <td>5.4</td>\n",
       "      <td>5.3</td>\n",
       "      <td>2.8</td>\n",
       "      <td>6.3</td>\n",
       "      <td>...</td>\n",
       "      <td>4.69</td>\n",
       "      <td>5.47</td>\n",
       "      <td>4.70</td>\n",
       "      <td>Y</td>\n",
       "      <td>TB</td>\n",
       "      <td>Y</td>\n",
       "      <td>1.876</td>\n",
       "      <td>2.188</td>\n",
       "      <td>1.880</td>\n",
       "      <td>0</td>\n",
       "    </tr>\n",
       "    <tr>\n",
       "      <th>2</th>\n",
       "      <td>3</td>\n",
       "      <td>5.6</td>\n",
       "      <td>6.8</td>\n",
       "      <td>7.2</td>\n",
       "      <td>7.5</td>\n",
       "      <td>4.3</td>\n",
       "      <td>7.4</td>\n",
       "      <td>5.8</td>\n",
       "      <td>3.2</td>\n",
       "      <td>5.0</td>\n",
       "      <td>...</td>\n",
       "      <td>5.77</td>\n",
       "      <td>5.38</td>\n",
       "      <td>4.33</td>\n",
       "      <td>TB</td>\n",
       "      <td>TB</td>\n",
       "      <td>Y</td>\n",
       "      <td>2.308</td>\n",
       "      <td>2.152</td>\n",
       "      <td>1.732</td>\n",
       "      <td>1</td>\n",
       "    </tr>\n",
       "    <tr>\n",
       "      <th>3</th>\n",
       "      <td>4</td>\n",
       "      <td>6.6</td>\n",
       "      <td>6.4</td>\n",
       "      <td>5.3</td>\n",
       "      <td>6.9</td>\n",
       "      <td>5.4</td>\n",
       "      <td>7.3</td>\n",
       "      <td>6.4</td>\n",
       "      <td>5.8</td>\n",
       "      <td>5.1</td>\n",
       "      <td>...</td>\n",
       "      <td>6.21</td>\n",
       "      <td>5.20</td>\n",
       "      <td>6.03</td>\n",
       "      <td>TB</td>\n",
       "      <td>TB</td>\n",
       "      <td>TB</td>\n",
       "      <td>2.484</td>\n",
       "      <td>2.080</td>\n",
       "      <td>2.412</td>\n",
       "      <td>0</td>\n",
       "    </tr>\n",
       "    <tr>\n",
       "      <th>4</th>\n",
       "      <td>5</td>\n",
       "      <td>6.0</td>\n",
       "      <td>5.0</td>\n",
       "      <td>6.0</td>\n",
       "      <td>7.3</td>\n",
       "      <td>6.5</td>\n",
       "      <td>7.7</td>\n",
       "      <td>7.9</td>\n",
       "      <td>6.1</td>\n",
       "      <td>5.4</td>\n",
       "      <td>...</td>\n",
       "      <td>6.50</td>\n",
       "      <td>6.36</td>\n",
       "      <td>7.01</td>\n",
       "      <td>K</td>\n",
       "      <td>TB</td>\n",
       "      <td>K</td>\n",
       "      <td>2.600</td>\n",
       "      <td>2.544</td>\n",
       "      <td>2.804</td>\n",
       "      <td>0</td>\n",
       "    </tr>\n",
       "    <tr>\n",
       "      <th>5</th>\n",
       "      <td>6</td>\n",
       "      <td>9.3</td>\n",
       "      <td>7.6</td>\n",
       "      <td>7.9</td>\n",
       "      <td>8.6</td>\n",
       "      <td>7.0</td>\n",
       "      <td>7.3</td>\n",
       "      <td>7.7</td>\n",
       "      <td>7.9</td>\n",
       "      <td>9.6</td>\n",
       "      <td>...</td>\n",
       "      <td>7.96</td>\n",
       "      <td>8.54</td>\n",
       "      <td>7.82</td>\n",
       "      <td>K</td>\n",
       "      <td>G</td>\n",
       "      <td>K</td>\n",
       "      <td>3.184</td>\n",
       "      <td>3.416</td>\n",
       "      <td>3.128</td>\n",
       "      <td>0</td>\n",
       "    </tr>\n",
       "    <tr>\n",
       "      <th>6</th>\n",
       "      <td>7</td>\n",
       "      <td>2.8</td>\n",
       "      <td>3.9</td>\n",
       "      <td>5.5</td>\n",
       "      <td>6.9</td>\n",
       "      <td>5.0</td>\n",
       "      <td>7.3</td>\n",
       "      <td>4.6</td>\n",
       "      <td>5.2</td>\n",
       "      <td>4.4</td>\n",
       "      <td>...</td>\n",
       "      <td>4.90</td>\n",
       "      <td>5.60</td>\n",
       "      <td>5.24</td>\n",
       "      <td>Y</td>\n",
       "      <td>TB</td>\n",
       "      <td>TB</td>\n",
       "      <td>1.960</td>\n",
       "      <td>2.240</td>\n",
       "      <td>2.096</td>\n",
       "      <td>1</td>\n",
       "    </tr>\n",
       "    <tr>\n",
       "      <th>7</th>\n",
       "      <td>8</td>\n",
       "      <td>8.3</td>\n",
       "      <td>6.0</td>\n",
       "      <td>7.6</td>\n",
       "      <td>5.1</td>\n",
       "      <td>7.5</td>\n",
       "      <td>4.7</td>\n",
       "      <td>5.8</td>\n",
       "      <td>7.2</td>\n",
       "      <td>6.7</td>\n",
       "      <td>...</td>\n",
       "      <td>6.80</td>\n",
       "      <td>6.87</td>\n",
       "      <td>6.95</td>\n",
       "      <td>K</td>\n",
       "      <td>K</td>\n",
       "      <td>K</td>\n",
       "      <td>2.720</td>\n",
       "      <td>2.748</td>\n",
       "      <td>2.780</td>\n",
       "      <td>0</td>\n",
       "    </tr>\n",
       "    <tr>\n",
       "      <th>8</th>\n",
       "      <td>9</td>\n",
       "      <td>6.5</td>\n",
       "      <td>6.3</td>\n",
       "      <td>7.6</td>\n",
       "      <td>6.0</td>\n",
       "      <td>5.5</td>\n",
       "      <td>7.1</td>\n",
       "      <td>6.3</td>\n",
       "      <td>5.0</td>\n",
       "      <td>7.3</td>\n",
       "      <td>...</td>\n",
       "      <td>6.23</td>\n",
       "      <td>6.72</td>\n",
       "      <td>6.59</td>\n",
       "      <td>TB</td>\n",
       "      <td>K</td>\n",
       "      <td>K</td>\n",
       "      <td>2.492</td>\n",
       "      <td>2.688</td>\n",
       "      <td>2.636</td>\n",
       "      <td>0</td>\n",
       "    </tr>\n",
       "    <tr>\n",
       "      <th>9</th>\n",
       "      <td>10</td>\n",
       "      <td>7.3</td>\n",
       "      <td>5.9</td>\n",
       "      <td>4.7</td>\n",
       "      <td>7.1</td>\n",
       "      <td>6.7</td>\n",
       "      <td>7.9</td>\n",
       "      <td>6.7</td>\n",
       "      <td>7.7</td>\n",
       "      <td>8.0</td>\n",
       "      <td>...</td>\n",
       "      <td>6.80</td>\n",
       "      <td>7.25</td>\n",
       "      <td>7.12</td>\n",
       "      <td>K</td>\n",
       "      <td>K</td>\n",
       "      <td>K</td>\n",
       "      <td>2.720</td>\n",
       "      <td>2.900</td>\n",
       "      <td>2.848</td>\n",
       "      <td>0</td>\n",
       "    </tr>\n",
       "  </tbody>\n",
       "</table>\n",
       "<p>10 rows × 66 columns</p>\n",
       "</div>"
      ],
      "text/plain": [
       "   STT   T1   L1   H1   S1   V1   X1   D1   N1   T2  ...  TBM1  TBM2  TBM3  \\\n",
       "0    1  7.2  7.3  6.3  7.3  7.0  7.9  7.3  5.5  8.4  ...  7.00  7.54  7.06   \n",
       "1    2  5.4  3.9  3.9  4.0  5.4  5.4  5.3  2.8  6.3  ...  4.69  5.47  4.70   \n",
       "2    3  5.6  6.8  7.2  7.5  4.3  7.4  5.8  3.2  5.0  ...  5.77  5.38  4.33   \n",
       "3    4  6.6  6.4  5.3  6.9  5.4  7.3  6.4  5.8  5.1  ...  6.21  5.20  6.03   \n",
       "4    5  6.0  5.0  6.0  7.3  6.5  7.7  7.9  6.1  5.4  ...  6.50  6.36  7.01   \n",
       "5    6  9.3  7.6  7.9  8.6  7.0  7.3  7.7  7.9  9.6  ...  7.96  8.54  7.82   \n",
       "6    7  2.8  3.9  5.5  6.9  5.0  7.3  4.6  5.2  4.4  ...  4.90  5.60  5.24   \n",
       "7    8  8.3  6.0  7.6  5.1  7.5  4.7  5.8  7.2  6.7  ...  6.80  6.87  6.95   \n",
       "8    9  6.5  6.3  7.6  6.0  5.5  7.1  6.3  5.0  7.3  ...  6.23  6.72  6.59   \n",
       "9   10  7.3  5.9  4.7  7.1  6.7  7.9  6.7  7.7  8.0  ...  6.80  7.25  7.12   \n",
       "\n",
       "   XL1  XL2  XL3  US_TBM1  US_TBM2  US_TBM3  KQXT  \n",
       "0    K    K    K    2.800    3.016    2.824     0  \n",
       "1    Y   TB    Y    1.876    2.188    1.880     0  \n",
       "2   TB   TB    Y    2.308    2.152    1.732     1  \n",
       "3   TB   TB   TB    2.484    2.080    2.412     0  \n",
       "4    K   TB    K    2.600    2.544    2.804     0  \n",
       "5    K    G    K    3.184    3.416    3.128     0  \n",
       "6    Y   TB   TB    1.960    2.240    2.096     1  \n",
       "7    K    K    K    2.720    2.748    2.780     0  \n",
       "8   TB    K    K    2.492    2.688    2.636     0  \n",
       "9    K    K    K    2.720    2.900    2.848     0  \n",
       "\n",
       "[10 rows x 66 columns]"
      ]
     },
     "execution_count": 3,
     "metadata": {},
     "output_type": "execute_result"
    }
   ],
   "source": [
    "# read data\n",
    "df = pd.read_csv(\"processed_dulieuxettuyendaihoc.csv\")\n",
    "# doc 10 dong dau\n",
    "df.head(10)"
   ]
  },
  {
   "cell_type": "markdown",
   "metadata": {},
   "source": [
    "## 1.1 sap xep du lieu theo thu tục tang dam"
   ]
  },
  {
   "cell_type": "code",
   "execution_count": 4,
   "metadata": {},
   "outputs": [
    {
     "data": {
      "text/plain": [
       "53    1.00\n",
       "43    1.25\n",
       "72    1.50\n",
       "5     1.50\n",
       "87    1.75\n",
       "      ... \n",
       "84    6.50\n",
       "11    6.75\n",
       "23    6.75\n",
       "24    7.00\n",
       "97    7.00\n",
       "Name: DH1, Length: 100, dtype: float64"
      ]
     },
     "execution_count": 4,
     "metadata": {},
     "output_type": "execute_result"
    }
   ],
   "source": [
    "# sort gia tri tu lon den be\n",
    "Dh1= df[\"DH1\"].sort_values()\n",
    "Dh1"
   ]
  },
  {
   "cell_type": "markdown",
   "metadata": {},
   "source": [
    "## 1.2 sap xe du lieu DH2 tang dan theo nhom gioi tinh"
   ]
  },
  {
   "cell_type": "code",
   "execution_count": 5,
   "metadata": {},
   "outputs": [
    {
     "data": {
      "text/html": [
       "<div>\n",
       "<style scoped>\n",
       "    .dataframe tbody tr th:only-of-type {\n",
       "        vertical-align: middle;\n",
       "    }\n",
       "\n",
       "    .dataframe tbody tr th {\n",
       "        vertical-align: top;\n",
       "    }\n",
       "\n",
       "    .dataframe thead th {\n",
       "        text-align: right;\n",
       "    }\n",
       "</style>\n",
       "<table border=\"1\" class=\"dataframe\">\n",
       "  <thead>\n",
       "    <tr style=\"text-align: right;\">\n",
       "      <th></th>\n",
       "      <th>STT</th>\n",
       "      <th>T1</th>\n",
       "      <th>L1</th>\n",
       "      <th>H1</th>\n",
       "      <th>S1</th>\n",
       "      <th>V1</th>\n",
       "      <th>X1</th>\n",
       "      <th>D1</th>\n",
       "      <th>N1</th>\n",
       "      <th>T2</th>\n",
       "      <th>...</th>\n",
       "      <th>TBM1</th>\n",
       "      <th>TBM2</th>\n",
       "      <th>TBM3</th>\n",
       "      <th>XL1</th>\n",
       "      <th>XL2</th>\n",
       "      <th>XL3</th>\n",
       "      <th>US_TBM1</th>\n",
       "      <th>US_TBM2</th>\n",
       "      <th>US_TBM3</th>\n",
       "      <th>KQXT</th>\n",
       "    </tr>\n",
       "  </thead>\n",
       "  <tbody>\n",
       "    <tr>\n",
       "      <th>0</th>\n",
       "      <td>96</td>\n",
       "      <td>8.6</td>\n",
       "      <td>6.9</td>\n",
       "      <td>7.4</td>\n",
       "      <td>8.8</td>\n",
       "      <td>7.6</td>\n",
       "      <td>5.8</td>\n",
       "      <td>7.3</td>\n",
       "      <td>5.7</td>\n",
       "      <td>8.9</td>\n",
       "      <td>...</td>\n",
       "      <td>7.43</td>\n",
       "      <td>7.42</td>\n",
       "      <td>7.04</td>\n",
       "      <td>K</td>\n",
       "      <td>K</td>\n",
       "      <td>K</td>\n",
       "      <td>2.972</td>\n",
       "      <td>2.968</td>\n",
       "      <td>2.816</td>\n",
       "      <td>0</td>\n",
       "    </tr>\n",
       "    <tr>\n",
       "      <th>1</th>\n",
       "      <td>26</td>\n",
       "      <td>3.6</td>\n",
       "      <td>5.8</td>\n",
       "      <td>6.9</td>\n",
       "      <td>6.1</td>\n",
       "      <td>5.5</td>\n",
       "      <td>7.2</td>\n",
       "      <td>5.5</td>\n",
       "      <td>4.3</td>\n",
       "      <td>4.2</td>\n",
       "      <td>...</td>\n",
       "      <td>5.40</td>\n",
       "      <td>5.20</td>\n",
       "      <td>5.02</td>\n",
       "      <td>TB</td>\n",
       "      <td>TB</td>\n",
       "      <td>TB</td>\n",
       "      <td>2.160</td>\n",
       "      <td>2.080</td>\n",
       "      <td>2.008</td>\n",
       "      <td>0</td>\n",
       "    </tr>\n",
       "    <tr>\n",
       "      <th>2</th>\n",
       "      <td>25</td>\n",
       "      <td>2.4</td>\n",
       "      <td>4.1</td>\n",
       "      <td>3.6</td>\n",
       "      <td>5.5</td>\n",
       "      <td>5.9</td>\n",
       "      <td>5.6</td>\n",
       "      <td>4.9</td>\n",
       "      <td>4.2</td>\n",
       "      <td>3.3</td>\n",
       "      <td>...</td>\n",
       "      <td>4.45</td>\n",
       "      <td>4.88</td>\n",
       "      <td>5.31</td>\n",
       "      <td>Y</td>\n",
       "      <td>Y</td>\n",
       "      <td>TB</td>\n",
       "      <td>1.780</td>\n",
       "      <td>1.952</td>\n",
       "      <td>2.124</td>\n",
       "      <td>1</td>\n",
       "    </tr>\n",
       "    <tr>\n",
       "      <th>3</th>\n",
       "      <td>47</td>\n",
       "      <td>6.7</td>\n",
       "      <td>6.8</td>\n",
       "      <td>6.4</td>\n",
       "      <td>5.9</td>\n",
       "      <td>5.6</td>\n",
       "      <td>6.4</td>\n",
       "      <td>8.0</td>\n",
       "      <td>6.8</td>\n",
       "      <td>6.6</td>\n",
       "      <td>...</td>\n",
       "      <td>6.49</td>\n",
       "      <td>6.51</td>\n",
       "      <td>6.95</td>\n",
       "      <td>TB</td>\n",
       "      <td>K</td>\n",
       "      <td>K</td>\n",
       "      <td>2.596</td>\n",
       "      <td>2.604</td>\n",
       "      <td>2.780</td>\n",
       "      <td>0</td>\n",
       "    </tr>\n",
       "    <tr>\n",
       "      <th>4</th>\n",
       "      <td>14</td>\n",
       "      <td>4.9</td>\n",
       "      <td>5.4</td>\n",
       "      <td>5.0</td>\n",
       "      <td>5.0</td>\n",
       "      <td>5.8</td>\n",
       "      <td>7.0</td>\n",
       "      <td>4.2</td>\n",
       "      <td>5.8</td>\n",
       "      <td>4.5</td>\n",
       "      <td>...</td>\n",
       "      <td>5.38</td>\n",
       "      <td>5.51</td>\n",
       "      <td>5.69</td>\n",
       "      <td>TB</td>\n",
       "      <td>TB</td>\n",
       "      <td>TB</td>\n",
       "      <td>2.152</td>\n",
       "      <td>2.204</td>\n",
       "      <td>2.276</td>\n",
       "      <td>0</td>\n",
       "    </tr>\n",
       "    <tr>\n",
       "      <th>...</th>\n",
       "      <td>...</td>\n",
       "      <td>...</td>\n",
       "      <td>...</td>\n",
       "      <td>...</td>\n",
       "      <td>...</td>\n",
       "      <td>...</td>\n",
       "      <td>...</td>\n",
       "      <td>...</td>\n",
       "      <td>...</td>\n",
       "      <td>...</td>\n",
       "      <td>...</td>\n",
       "      <td>...</td>\n",
       "      <td>...</td>\n",
       "      <td>...</td>\n",
       "      <td>...</td>\n",
       "      <td>...</td>\n",
       "      <td>...</td>\n",
       "      <td>...</td>\n",
       "      <td>...</td>\n",
       "      <td>...</td>\n",
       "      <td>...</td>\n",
       "    </tr>\n",
       "    <tr>\n",
       "      <th>95</th>\n",
       "      <td>69</td>\n",
       "      <td>7.3</td>\n",
       "      <td>6.4</td>\n",
       "      <td>6.9</td>\n",
       "      <td>7.5</td>\n",
       "      <td>6.2</td>\n",
       "      <td>8.4</td>\n",
       "      <td>7.6</td>\n",
       "      <td>8.1</td>\n",
       "      <td>8.1</td>\n",
       "      <td>...</td>\n",
       "      <td>7.19</td>\n",
       "      <td>7.70</td>\n",
       "      <td>7.84</td>\n",
       "      <td>K</td>\n",
       "      <td>K</td>\n",
       "      <td>K</td>\n",
       "      <td>2.876</td>\n",
       "      <td>3.080</td>\n",
       "      <td>3.136</td>\n",
       "      <td>1</td>\n",
       "    </tr>\n",
       "    <tr>\n",
       "      <th>96</th>\n",
       "      <td>12</td>\n",
       "      <td>7.9</td>\n",
       "      <td>7.0</td>\n",
       "      <td>9.1</td>\n",
       "      <td>8.6</td>\n",
       "      <td>6.1</td>\n",
       "      <td>7.0</td>\n",
       "      <td>5.6</td>\n",
       "      <td>9.0</td>\n",
       "      <td>8.2</td>\n",
       "      <td>...</td>\n",
       "      <td>7.43</td>\n",
       "      <td>7.72</td>\n",
       "      <td>7.49</td>\n",
       "      <td>K</td>\n",
       "      <td>K</td>\n",
       "      <td>K</td>\n",
       "      <td>2.972</td>\n",
       "      <td>3.088</td>\n",
       "      <td>2.996</td>\n",
       "      <td>1</td>\n",
       "    </tr>\n",
       "    <tr>\n",
       "      <th>97</th>\n",
       "      <td>48</td>\n",
       "      <td>7.9</td>\n",
       "      <td>7.6</td>\n",
       "      <td>8.4</td>\n",
       "      <td>8.6</td>\n",
       "      <td>6.2</td>\n",
       "      <td>7.5</td>\n",
       "      <td>8.7</td>\n",
       "      <td>7.7</td>\n",
       "      <td>7.3</td>\n",
       "      <td>...</td>\n",
       "      <td>7.67</td>\n",
       "      <td>7.49</td>\n",
       "      <td>7.26</td>\n",
       "      <td>K</td>\n",
       "      <td>K</td>\n",
       "      <td>K</td>\n",
       "      <td>3.068</td>\n",
       "      <td>2.996</td>\n",
       "      <td>2.904</td>\n",
       "      <td>1</td>\n",
       "    </tr>\n",
       "    <tr>\n",
       "      <th>98</th>\n",
       "      <td>3</td>\n",
       "      <td>5.6</td>\n",
       "      <td>6.8</td>\n",
       "      <td>7.2</td>\n",
       "      <td>7.5</td>\n",
       "      <td>4.3</td>\n",
       "      <td>7.4</td>\n",
       "      <td>5.8</td>\n",
       "      <td>3.2</td>\n",
       "      <td>5.0</td>\n",
       "      <td>...</td>\n",
       "      <td>5.77</td>\n",
       "      <td>5.38</td>\n",
       "      <td>4.33</td>\n",
       "      <td>TB</td>\n",
       "      <td>TB</td>\n",
       "      <td>Y</td>\n",
       "      <td>2.308</td>\n",
       "      <td>2.152</td>\n",
       "      <td>1.732</td>\n",
       "      <td>1</td>\n",
       "    </tr>\n",
       "    <tr>\n",
       "      <th>99</th>\n",
       "      <td>98</td>\n",
       "      <td>8.8</td>\n",
       "      <td>5.5</td>\n",
       "      <td>7.4</td>\n",
       "      <td>7.7</td>\n",
       "      <td>6.2</td>\n",
       "      <td>7.3</td>\n",
       "      <td>8.1</td>\n",
       "      <td>4.5</td>\n",
       "      <td>9.5</td>\n",
       "      <td>...</td>\n",
       "      <td>7.05</td>\n",
       "      <td>7.84</td>\n",
       "      <td>7.92</td>\n",
       "      <td>K</td>\n",
       "      <td>K</td>\n",
       "      <td>K</td>\n",
       "      <td>2.820</td>\n",
       "      <td>3.136</td>\n",
       "      <td>3.168</td>\n",
       "      <td>1</td>\n",
       "    </tr>\n",
       "  </tbody>\n",
       "</table>\n",
       "<p>100 rows × 66 columns</p>\n",
       "</div>"
      ],
      "text/plain": [
       "    STT   T1   L1   H1   S1   V1   X1   D1   N1   T2  ...  TBM1  TBM2  TBM3  \\\n",
       "0    96  8.6  6.9  7.4  8.8  7.6  5.8  7.3  5.7  8.9  ...  7.43  7.42  7.04   \n",
       "1    26  3.6  5.8  6.9  6.1  5.5  7.2  5.5  4.3  4.2  ...  5.40  5.20  5.02   \n",
       "2    25  2.4  4.1  3.6  5.5  5.9  5.6  4.9  4.2  3.3  ...  4.45  4.88  5.31   \n",
       "3    47  6.7  6.8  6.4  5.9  5.6  6.4  8.0  6.8  6.6  ...  6.49  6.51  6.95   \n",
       "4    14  4.9  5.4  5.0  5.0  5.8  7.0  4.2  5.8  4.5  ...  5.38  5.51  5.69   \n",
       "..  ...  ...  ...  ...  ...  ...  ...  ...  ...  ...  ...   ...   ...   ...   \n",
       "95   69  7.3  6.4  6.9  7.5  6.2  8.4  7.6  8.1  8.1  ...  7.19  7.70  7.84   \n",
       "96   12  7.9  7.0  9.1  8.6  6.1  7.0  5.6  9.0  8.2  ...  7.43  7.72  7.49   \n",
       "97   48  7.9  7.6  8.4  8.6  6.2  7.5  8.7  7.7  7.3  ...  7.67  7.49  7.26   \n",
       "98    3  5.6  6.8  7.2  7.5  4.3  7.4  5.8  3.2  5.0  ...  5.77  5.38  4.33   \n",
       "99   98  8.8  5.5  7.4  7.7  6.2  7.3  8.1  4.5  9.5  ...  7.05  7.84  7.92   \n",
       "\n",
       "    XL1  XL2  XL3  US_TBM1  US_TBM2  US_TBM3  KQXT  \n",
       "0     K    K    K    2.972    2.968    2.816     0  \n",
       "1    TB   TB   TB    2.160    2.080    2.008     0  \n",
       "2     Y    Y   TB    1.780    1.952    2.124     1  \n",
       "3    TB    K    K    2.596    2.604    2.780     0  \n",
       "4    TB   TB   TB    2.152    2.204    2.276     0  \n",
       "..  ...  ...  ...      ...      ...      ...   ...  \n",
       "95    K    K    K    2.876    3.080    3.136     1  \n",
       "96    K    K    K    2.972    3.088    2.996     1  \n",
       "97    K    K    K    3.068    2.996    2.904     1  \n",
       "98   TB   TB    Y    2.308    2.152    1.732     1  \n",
       "99    K    K    K    2.820    3.136    3.168     1  \n",
       "\n",
       "[100 rows x 66 columns]"
      ]
     },
     "execution_count": 5,
     "metadata": {},
     "output_type": "execute_result"
    }
   ],
   "source": [
    "# thiet lap mac dinh xhi so index .reset_index(drop=True)\n",
    "Dh2= df.sort_values(by=[\"GT\",\"DH2\"]).reset_index(drop=True)\n",
    "\n",
    "Dh2\n"
   ]
  },
  {
   "cell_type": "markdown",
   "metadata": {},
   "source": [
    "## 1.3 thong ke cac gia tri count, sum, mean, median, min, max, std, Q1, Q2, Q2 chu Dh1 theo KT "
   ]
  },
  {
   "cell_type": "code",
   "execution_count": 6,
   "metadata": {},
   "outputs": [
    {
     "data": {
      "text/html": [
       "<div>\n",
       "<style scoped>\n",
       "    .dataframe tbody tr th:only-of-type {\n",
       "        vertical-align: middle;\n",
       "    }\n",
       "\n",
       "    .dataframe tbody tr th {\n",
       "        vertical-align: top;\n",
       "    }\n",
       "\n",
       "    .dataframe thead tr th {\n",
       "        text-align: left;\n",
       "    }\n",
       "\n",
       "    .dataframe thead tr:last-of-type th {\n",
       "        text-align: right;\n",
       "    }\n",
       "</style>\n",
       "<table border=\"1\" class=\"dataframe\">\n",
       "  <thead>\n",
       "    <tr>\n",
       "      <th></th>\n",
       "      <th>sum</th>\n",
       "      <th>mean</th>\n",
       "      <th>median</th>\n",
       "      <th>min</th>\n",
       "      <th>max</th>\n",
       "      <th>std</th>\n",
       "      <th>q1</th>\n",
       "      <th>q2</th>\n",
       "      <th>q3</th>\n",
       "    </tr>\n",
       "    <tr>\n",
       "      <th></th>\n",
       "      <th>DH1</th>\n",
       "      <th>DH1</th>\n",
       "      <th>DH1</th>\n",
       "      <th>DH1</th>\n",
       "      <th>DH1</th>\n",
       "      <th>DH1</th>\n",
       "      <th>DH1</th>\n",
       "      <th>DH1</th>\n",
       "      <th>DH1</th>\n",
       "    </tr>\n",
       "    <tr>\n",
       "      <th>KT</th>\n",
       "      <th></th>\n",
       "      <th></th>\n",
       "      <th></th>\n",
       "      <th></th>\n",
       "      <th></th>\n",
       "      <th></th>\n",
       "      <th></th>\n",
       "      <th></th>\n",
       "      <th></th>\n",
       "    </tr>\n",
       "  </thead>\n",
       "  <tbody>\n",
       "    <tr>\n",
       "      <th>A</th>\n",
       "      <td>163.50</td>\n",
       "      <td>3.336735</td>\n",
       "      <td>3.25</td>\n",
       "      <td>1.00</td>\n",
       "      <td>6.50</td>\n",
       "      <td>1.261226</td>\n",
       "      <td>2.2500</td>\n",
       "      <td>3.25</td>\n",
       "      <td>4.250</td>\n",
       "    </tr>\n",
       "    <tr>\n",
       "      <th>A1</th>\n",
       "      <td>17.50</td>\n",
       "      <td>2.916667</td>\n",
       "      <td>3.00</td>\n",
       "      <td>2.00</td>\n",
       "      <td>4.25</td>\n",
       "      <td>0.786165</td>\n",
       "      <td>2.1875</td>\n",
       "      <td>3.00</td>\n",
       "      <td>3.250</td>\n",
       "    </tr>\n",
       "    <tr>\n",
       "      <th>B</th>\n",
       "      <td>29.50</td>\n",
       "      <td>3.277778</td>\n",
       "      <td>3.50</td>\n",
       "      <td>1.75</td>\n",
       "      <td>4.50</td>\n",
       "      <td>0.776785</td>\n",
       "      <td>3.2500</td>\n",
       "      <td>3.50</td>\n",
       "      <td>3.750</td>\n",
       "    </tr>\n",
       "    <tr>\n",
       "      <th>C</th>\n",
       "      <td>79.25</td>\n",
       "      <td>5.660714</td>\n",
       "      <td>5.25</td>\n",
       "      <td>4.75</td>\n",
       "      <td>7.00</td>\n",
       "      <td>0.782665</td>\n",
       "      <td>5.0625</td>\n",
       "      <td>5.25</td>\n",
       "      <td>6.375</td>\n",
       "    </tr>\n",
       "    <tr>\n",
       "      <th>D1</th>\n",
       "      <td>84.25</td>\n",
       "      <td>3.829545</td>\n",
       "      <td>3.75</td>\n",
       "      <td>1.25</td>\n",
       "      <td>6.75</td>\n",
       "      <td>1.338644</td>\n",
       "      <td>3.0000</td>\n",
       "      <td>3.75</td>\n",
       "      <td>4.875</td>\n",
       "    </tr>\n",
       "  </tbody>\n",
       "</table>\n",
       "</div>"
      ],
      "text/plain": [
       "       sum      mean median   min   max       std      q1    q2     q3\n",
       "       DH1       DH1    DH1   DH1   DH1       DH1     DH1   DH1    DH1\n",
       "KT                                                                    \n",
       "A   163.50  3.336735   3.25  1.00  6.50  1.261226  2.2500  3.25  4.250\n",
       "A1   17.50  2.916667   3.00  2.00  4.25  0.786165  2.1875  3.00  3.250\n",
       "B    29.50  3.277778   3.50  1.75  4.50  0.776785  3.2500  3.50  3.750\n",
       "C    79.25  5.660714   5.25  4.75  7.00  0.782665  5.0625  5.25  6.375\n",
       "D1   84.25  3.829545   3.75  1.25  6.75  1.338644  3.0000  3.75  4.875"
      ]
     },
     "execution_count": 6,
     "metadata": {},
     "output_type": "execute_result"
    }
   ],
   "source": [
    "def get_mean(scores):\n",
    "    return sum(scores)/len(scores)\n",
    "def q1(g):\n",
    "    return np.percentile(g,25)\n",
    "def q2(g):\n",
    "    return np.percentile(g,50)\n",
    "def q3(g):\n",
    "    return np.percentile(g,75)\n",
    "\n",
    "def std(g):\n",
    "    return np.std(g)\n",
    "\n",
    "result = df[\"DH1\"].sum()\n",
    "# tạo bang vs cac gia tri de tong hop phan tich du lieu\n",
    "pd.pivot_table(data= df, index= \"KT\", values=\"DH1\",aggfunc=[\"sum\", 'mean',\"median\", \"min\", \"max\", std,q1,q2,q3])\n"
   ]
  },
  {
   "cell_type": "markdown",
   "metadata": {},
   "source": [
    "##  1.4 thống kê các giá trị count, sum, mean, median, min, max, std, Q1, Q2 và Q3 của DH1 theo KT và KV "
   ]
  },
  {
   "cell_type": "code",
   "execution_count": 7,
   "metadata": {},
   "outputs": [
    {
     "data": {
      "text/html": [
       "<div>\n",
       "<style scoped>\n",
       "    .dataframe tbody tr th:only-of-type {\n",
       "        vertical-align: middle;\n",
       "    }\n",
       "\n",
       "    .dataframe tbody tr th {\n",
       "        vertical-align: top;\n",
       "    }\n",
       "\n",
       "    .dataframe thead tr th {\n",
       "        text-align: left;\n",
       "    }\n",
       "\n",
       "    .dataframe thead tr:last-of-type th {\n",
       "        text-align: right;\n",
       "    }\n",
       "</style>\n",
       "<table border=\"1\" class=\"dataframe\">\n",
       "  <thead>\n",
       "    <tr>\n",
       "      <th></th>\n",
       "      <th></th>\n",
       "      <th>sum</th>\n",
       "      <th>mean</th>\n",
       "      <th>median</th>\n",
       "      <th>min</th>\n",
       "      <th>max</th>\n",
       "      <th>std</th>\n",
       "      <th>q1</th>\n",
       "      <th>q2</th>\n",
       "      <th>q3</th>\n",
       "    </tr>\n",
       "    <tr>\n",
       "      <th></th>\n",
       "      <th></th>\n",
       "      <th>DH1</th>\n",
       "      <th>DH1</th>\n",
       "      <th>DH1</th>\n",
       "      <th>DH1</th>\n",
       "      <th>DH1</th>\n",
       "      <th>DH1</th>\n",
       "      <th>DH1</th>\n",
       "      <th>DH1</th>\n",
       "      <th>DH1</th>\n",
       "    </tr>\n",
       "    <tr>\n",
       "      <th>KT</th>\n",
       "      <th>KV</th>\n",
       "      <th></th>\n",
       "      <th></th>\n",
       "      <th></th>\n",
       "      <th></th>\n",
       "      <th></th>\n",
       "      <th></th>\n",
       "      <th></th>\n",
       "      <th></th>\n",
       "      <th></th>\n",
       "    </tr>\n",
       "  </thead>\n",
       "  <tbody>\n",
       "    <tr>\n",
       "      <th rowspan=\"3\" valign=\"top\">A</th>\n",
       "      <th>1</th>\n",
       "      <td>93.75</td>\n",
       "      <td>3.232759</td>\n",
       "      <td>3.250</td>\n",
       "      <td>1.00</td>\n",
       "      <td>6.50</td>\n",
       "      <td>1.345380</td>\n",
       "      <td>2.0000</td>\n",
       "      <td>3.250</td>\n",
       "      <td>4.2500</td>\n",
       "    </tr>\n",
       "    <tr>\n",
       "      <th>2</th>\n",
       "      <td>31.75</td>\n",
       "      <td>3.527778</td>\n",
       "      <td>3.500</td>\n",
       "      <td>2.00</td>\n",
       "      <td>6.25</td>\n",
       "      <td>1.346005</td>\n",
       "      <td>2.2500</td>\n",
       "      <td>3.500</td>\n",
       "      <td>4.2500</td>\n",
       "    </tr>\n",
       "    <tr>\n",
       "      <th>2NT</th>\n",
       "      <td>38.00</td>\n",
       "      <td>3.454545</td>\n",
       "      <td>3.500</td>\n",
       "      <td>2.00</td>\n",
       "      <td>4.75</td>\n",
       "      <td>0.871377</td>\n",
       "      <td>2.8750</td>\n",
       "      <td>3.500</td>\n",
       "      <td>4.1250</td>\n",
       "    </tr>\n",
       "    <tr>\n",
       "      <th rowspan=\"2\" valign=\"top\">A1</th>\n",
       "      <th>1</th>\n",
       "      <td>4.75</td>\n",
       "      <td>2.375000</td>\n",
       "      <td>2.375</td>\n",
       "      <td>2.00</td>\n",
       "      <td>2.75</td>\n",
       "      <td>0.375000</td>\n",
       "      <td>2.1875</td>\n",
       "      <td>2.375</td>\n",
       "      <td>2.5625</td>\n",
       "    </tr>\n",
       "    <tr>\n",
       "      <th>2NT</th>\n",
       "      <td>12.75</td>\n",
       "      <td>3.187500</td>\n",
       "      <td>3.250</td>\n",
       "      <td>2.00</td>\n",
       "      <td>4.25</td>\n",
       "      <td>0.797947</td>\n",
       "      <td>2.9375</td>\n",
       "      <td>3.250</td>\n",
       "      <td>3.5000</td>\n",
       "    </tr>\n",
       "    <tr>\n",
       "      <th rowspan=\"2\" valign=\"top\">B</th>\n",
       "      <th>1</th>\n",
       "      <td>25.75</td>\n",
       "      <td>3.218750</td>\n",
       "      <td>3.375</td>\n",
       "      <td>1.75</td>\n",
       "      <td>4.50</td>\n",
       "      <td>0.804650</td>\n",
       "      <td>3.0000</td>\n",
       "      <td>3.375</td>\n",
       "      <td>3.5625</td>\n",
       "    </tr>\n",
       "    <tr>\n",
       "      <th>2NT</th>\n",
       "      <td>3.75</td>\n",
       "      <td>3.750000</td>\n",
       "      <td>3.750</td>\n",
       "      <td>3.75</td>\n",
       "      <td>3.75</td>\n",
       "      <td>0.000000</td>\n",
       "      <td>3.7500</td>\n",
       "      <td>3.750</td>\n",
       "      <td>3.7500</td>\n",
       "    </tr>\n",
       "    <tr>\n",
       "      <th rowspan=\"3\" valign=\"top\">C</th>\n",
       "      <th>1</th>\n",
       "      <td>43.50</td>\n",
       "      <td>5.437500</td>\n",
       "      <td>5.250</td>\n",
       "      <td>4.75</td>\n",
       "      <td>7.00</td>\n",
       "      <td>0.681795</td>\n",
       "      <td>5.0000</td>\n",
       "      <td>5.250</td>\n",
       "      <td>5.4375</td>\n",
       "    </tr>\n",
       "    <tr>\n",
       "      <th>2</th>\n",
       "      <td>11.50</td>\n",
       "      <td>5.750000</td>\n",
       "      <td>5.750</td>\n",
       "      <td>5.00</td>\n",
       "      <td>6.50</td>\n",
       "      <td>0.750000</td>\n",
       "      <td>5.3750</td>\n",
       "      <td>5.750</td>\n",
       "      <td>6.1250</td>\n",
       "    </tr>\n",
       "    <tr>\n",
       "      <th>2NT</th>\n",
       "      <td>24.25</td>\n",
       "      <td>6.062500</td>\n",
       "      <td>6.000</td>\n",
       "      <td>5.25</td>\n",
       "      <td>7.00</td>\n",
       "      <td>0.817294</td>\n",
       "      <td>5.2500</td>\n",
       "      <td>6.000</td>\n",
       "      <td>6.8125</td>\n",
       "    </tr>\n",
       "    <tr>\n",
       "      <th rowspan=\"3\" valign=\"top\">D1</th>\n",
       "      <th>1</th>\n",
       "      <td>46.75</td>\n",
       "      <td>3.596154</td>\n",
       "      <td>3.500</td>\n",
       "      <td>1.50</td>\n",
       "      <td>5.75</td>\n",
       "      <td>1.215044</td>\n",
       "      <td>2.7500</td>\n",
       "      <td>3.500</td>\n",
       "      <td>4.2500</td>\n",
       "    </tr>\n",
       "    <tr>\n",
       "      <th>2</th>\n",
       "      <td>33.75</td>\n",
       "      <td>4.218750</td>\n",
       "      <td>4.500</td>\n",
       "      <td>1.25</td>\n",
       "      <td>6.75</td>\n",
       "      <td>1.512642</td>\n",
       "      <td>3.5625</td>\n",
       "      <td>4.500</td>\n",
       "      <td>5.0000</td>\n",
       "    </tr>\n",
       "    <tr>\n",
       "      <th>2NT</th>\n",
       "      <td>3.75</td>\n",
       "      <td>3.750000</td>\n",
       "      <td>3.750</td>\n",
       "      <td>3.75</td>\n",
       "      <td>3.75</td>\n",
       "      <td>0.000000</td>\n",
       "      <td>3.7500</td>\n",
       "      <td>3.750</td>\n",
       "      <td>3.7500</td>\n",
       "    </tr>\n",
       "  </tbody>\n",
       "</table>\n",
       "</div>"
      ],
      "text/plain": [
       "          sum      mean median   min   max       std      q1     q2      q3\n",
       "          DH1       DH1    DH1   DH1   DH1       DH1     DH1    DH1     DH1\n",
       "KT KV                                                                      \n",
       "A  1    93.75  3.232759  3.250  1.00  6.50  1.345380  2.0000  3.250  4.2500\n",
       "   2    31.75  3.527778  3.500  2.00  6.25  1.346005  2.2500  3.500  4.2500\n",
       "   2NT  38.00  3.454545  3.500  2.00  4.75  0.871377  2.8750  3.500  4.1250\n",
       "A1 1     4.75  2.375000  2.375  2.00  2.75  0.375000  2.1875  2.375  2.5625\n",
       "   2NT  12.75  3.187500  3.250  2.00  4.25  0.797947  2.9375  3.250  3.5000\n",
       "B  1    25.75  3.218750  3.375  1.75  4.50  0.804650  3.0000  3.375  3.5625\n",
       "   2NT   3.75  3.750000  3.750  3.75  3.75  0.000000  3.7500  3.750  3.7500\n",
       "C  1    43.50  5.437500  5.250  4.75  7.00  0.681795  5.0000  5.250  5.4375\n",
       "   2    11.50  5.750000  5.750  5.00  6.50  0.750000  5.3750  5.750  6.1250\n",
       "   2NT  24.25  6.062500  6.000  5.25  7.00  0.817294  5.2500  6.000  6.8125\n",
       "D1 1    46.75  3.596154  3.500  1.50  5.75  1.215044  2.7500  3.500  4.2500\n",
       "   2    33.75  4.218750  4.500  1.25  6.75  1.512642  3.5625  4.500  5.0000\n",
       "   2NT   3.75  3.750000  3.750  3.75  3.75  0.000000  3.7500  3.750  3.7500"
      ]
     },
     "execution_count": 7,
     "metadata": {},
     "output_type": "execute_result"
    }
   ],
   "source": [
    "# tạo bang vs cac gia tri de tong hop phan tich du lieu\n",
    "pd.pivot_table(data= df, index= [\"KT\",\"KV\"], values=\"DH1\",aggfunc=[\"sum\", 'mean',\"median\", \"min\", \"max\", std,q1,q2,q3])"
   ]
  },
  {
   "cell_type": "markdown",
   "metadata": {},
   "source": [
    "##  1.5 thống kê các giá trị count, sum, mean, median, min, max, std, Q1, Q2 và Q3 của DH1 theo KT, KV và DT"
   ]
  },
  {
   "cell_type": "code",
   "execution_count": 8,
   "metadata": {},
   "outputs": [
    {
     "data": {
      "text/html": [
       "<div>\n",
       "<style scoped>\n",
       "    .dataframe tbody tr th:only-of-type {\n",
       "        vertical-align: middle;\n",
       "    }\n",
       "\n",
       "    .dataframe tbody tr th {\n",
       "        vertical-align: top;\n",
       "    }\n",
       "\n",
       "    .dataframe thead tr th {\n",
       "        text-align: left;\n",
       "    }\n",
       "\n",
       "    .dataframe thead tr:last-of-type th {\n",
       "        text-align: right;\n",
       "    }\n",
       "</style>\n",
       "<table border=\"1\" class=\"dataframe\">\n",
       "  <thead>\n",
       "    <tr>\n",
       "      <th></th>\n",
       "      <th></th>\n",
       "      <th></th>\n",
       "      <th>sum</th>\n",
       "      <th>mean</th>\n",
       "      <th>median</th>\n",
       "      <th>min</th>\n",
       "      <th>max</th>\n",
       "      <th>std</th>\n",
       "      <th>q1</th>\n",
       "      <th>q2</th>\n",
       "      <th>q3</th>\n",
       "    </tr>\n",
       "    <tr>\n",
       "      <th></th>\n",
       "      <th></th>\n",
       "      <th></th>\n",
       "      <th>DH1</th>\n",
       "      <th>DH1</th>\n",
       "      <th>DH1</th>\n",
       "      <th>DH1</th>\n",
       "      <th>DH1</th>\n",
       "      <th>DH1</th>\n",
       "      <th>DH1</th>\n",
       "      <th>DH1</th>\n",
       "      <th>DH1</th>\n",
       "    </tr>\n",
       "    <tr>\n",
       "      <th>KT</th>\n",
       "      <th>KV</th>\n",
       "      <th>DT</th>\n",
       "      <th></th>\n",
       "      <th></th>\n",
       "      <th></th>\n",
       "      <th></th>\n",
       "      <th></th>\n",
       "      <th></th>\n",
       "      <th></th>\n",
       "      <th></th>\n",
       "      <th></th>\n",
       "    </tr>\n",
       "  </thead>\n",
       "  <tbody>\n",
       "    <tr>\n",
       "      <th rowspan=\"4\" valign=\"top\">A</th>\n",
       "      <th>1</th>\n",
       "      <th>0.0</th>\n",
       "      <td>93.75</td>\n",
       "      <td>3.232759</td>\n",
       "      <td>3.250</td>\n",
       "      <td>1.00</td>\n",
       "      <td>6.50</td>\n",
       "      <td>1.345380</td>\n",
       "      <td>2.0000</td>\n",
       "      <td>3.250</td>\n",
       "      <td>4.2500</td>\n",
       "    </tr>\n",
       "    <tr>\n",
       "      <th rowspan=\"2\" valign=\"top\">2</th>\n",
       "      <th>0.0</th>\n",
       "      <td>27.50</td>\n",
       "      <td>3.437500</td>\n",
       "      <td>3.000</td>\n",
       "      <td>2.00</td>\n",
       "      <td>6.25</td>\n",
       "      <td>1.401729</td>\n",
       "      <td>2.2500</td>\n",
       "      <td>3.000</td>\n",
       "      <td>4.1875</td>\n",
       "    </tr>\n",
       "    <tr>\n",
       "      <th>6.0</th>\n",
       "      <td>4.25</td>\n",
       "      <td>4.250000</td>\n",
       "      <td>4.250</td>\n",
       "      <td>4.25</td>\n",
       "      <td>4.25</td>\n",
       "      <td>0.000000</td>\n",
       "      <td>4.2500</td>\n",
       "      <td>4.250</td>\n",
       "      <td>4.2500</td>\n",
       "    </tr>\n",
       "    <tr>\n",
       "      <th>2NT</th>\n",
       "      <th>0.0</th>\n",
       "      <td>38.00</td>\n",
       "      <td>3.454545</td>\n",
       "      <td>3.500</td>\n",
       "      <td>2.00</td>\n",
       "      <td>4.75</td>\n",
       "      <td>0.871377</td>\n",
       "      <td>2.8750</td>\n",
       "      <td>3.500</td>\n",
       "      <td>4.1250</td>\n",
       "    </tr>\n",
       "    <tr>\n",
       "      <th rowspan=\"2\" valign=\"top\">A1</th>\n",
       "      <th>1</th>\n",
       "      <th>0.0</th>\n",
       "      <td>4.75</td>\n",
       "      <td>2.375000</td>\n",
       "      <td>2.375</td>\n",
       "      <td>2.00</td>\n",
       "      <td>2.75</td>\n",
       "      <td>0.375000</td>\n",
       "      <td>2.1875</td>\n",
       "      <td>2.375</td>\n",
       "      <td>2.5625</td>\n",
       "    </tr>\n",
       "    <tr>\n",
       "      <th>2NT</th>\n",
       "      <th>0.0</th>\n",
       "      <td>12.75</td>\n",
       "      <td>3.187500</td>\n",
       "      <td>3.250</td>\n",
       "      <td>2.00</td>\n",
       "      <td>4.25</td>\n",
       "      <td>0.797947</td>\n",
       "      <td>2.9375</td>\n",
       "      <td>3.250</td>\n",
       "      <td>3.5000</td>\n",
       "    </tr>\n",
       "    <tr>\n",
       "      <th rowspan=\"2\" valign=\"top\">B</th>\n",
       "      <th>1</th>\n",
       "      <th>0.0</th>\n",
       "      <td>25.75</td>\n",
       "      <td>3.218750</td>\n",
       "      <td>3.375</td>\n",
       "      <td>1.75</td>\n",
       "      <td>4.50</td>\n",
       "      <td>0.804650</td>\n",
       "      <td>3.0000</td>\n",
       "      <td>3.375</td>\n",
       "      <td>3.5625</td>\n",
       "    </tr>\n",
       "    <tr>\n",
       "      <th>2NT</th>\n",
       "      <th>0.0</th>\n",
       "      <td>3.75</td>\n",
       "      <td>3.750000</td>\n",
       "      <td>3.750</td>\n",
       "      <td>3.75</td>\n",
       "      <td>3.75</td>\n",
       "      <td>0.000000</td>\n",
       "      <td>3.7500</td>\n",
       "      <td>3.750</td>\n",
       "      <td>3.7500</td>\n",
       "    </tr>\n",
       "    <tr>\n",
       "      <th rowspan=\"3\" valign=\"top\">C</th>\n",
       "      <th>1</th>\n",
       "      <th>0.0</th>\n",
       "      <td>43.50</td>\n",
       "      <td>5.437500</td>\n",
       "      <td>5.250</td>\n",
       "      <td>4.75</td>\n",
       "      <td>7.00</td>\n",
       "      <td>0.681795</td>\n",
       "      <td>5.0000</td>\n",
       "      <td>5.250</td>\n",
       "      <td>5.4375</td>\n",
       "    </tr>\n",
       "    <tr>\n",
       "      <th>2</th>\n",
       "      <th>0.0</th>\n",
       "      <td>11.50</td>\n",
       "      <td>5.750000</td>\n",
       "      <td>5.750</td>\n",
       "      <td>5.00</td>\n",
       "      <td>6.50</td>\n",
       "      <td>0.750000</td>\n",
       "      <td>5.3750</td>\n",
       "      <td>5.750</td>\n",
       "      <td>6.1250</td>\n",
       "    </tr>\n",
       "    <tr>\n",
       "      <th>2NT</th>\n",
       "      <th>0.0</th>\n",
       "      <td>24.25</td>\n",
       "      <td>6.062500</td>\n",
       "      <td>6.000</td>\n",
       "      <td>5.25</td>\n",
       "      <td>7.00</td>\n",
       "      <td>0.817294</td>\n",
       "      <td>5.2500</td>\n",
       "      <td>6.000</td>\n",
       "      <td>6.8125</td>\n",
       "    </tr>\n",
       "    <tr>\n",
       "      <th rowspan=\"5\" valign=\"top\">D1</th>\n",
       "      <th rowspan=\"2\" valign=\"top\">1</th>\n",
       "      <th>0.0</th>\n",
       "      <td>43.75</td>\n",
       "      <td>3.645833</td>\n",
       "      <td>3.625</td>\n",
       "      <td>1.50</td>\n",
       "      <td>5.75</td>\n",
       "      <td>1.251908</td>\n",
       "      <td>2.6875</td>\n",
       "      <td>3.625</td>\n",
       "      <td>4.4375</td>\n",
       "    </tr>\n",
       "    <tr>\n",
       "      <th>1.0</th>\n",
       "      <td>3.00</td>\n",
       "      <td>3.000000</td>\n",
       "      <td>3.000</td>\n",
       "      <td>3.00</td>\n",
       "      <td>3.00</td>\n",
       "      <td>0.000000</td>\n",
       "      <td>3.0000</td>\n",
       "      <td>3.000</td>\n",
       "      <td>3.0000</td>\n",
       "    </tr>\n",
       "    <tr>\n",
       "      <th rowspan=\"2\" valign=\"top\">2</th>\n",
       "      <th>0.0</th>\n",
       "      <td>32.50</td>\n",
       "      <td>4.642857</td>\n",
       "      <td>4.500</td>\n",
       "      <td>3.00</td>\n",
       "      <td>6.75</td>\n",
       "      <td>1.084445</td>\n",
       "      <td>4.1250</td>\n",
       "      <td>4.500</td>\n",
       "      <td>5.0000</td>\n",
       "    </tr>\n",
       "    <tr>\n",
       "      <th>1.0</th>\n",
       "      <td>1.25</td>\n",
       "      <td>1.250000</td>\n",
       "      <td>1.250</td>\n",
       "      <td>1.25</td>\n",
       "      <td>1.25</td>\n",
       "      <td>0.000000</td>\n",
       "      <td>1.2500</td>\n",
       "      <td>1.250</td>\n",
       "      <td>1.2500</td>\n",
       "    </tr>\n",
       "    <tr>\n",
       "      <th>2NT</th>\n",
       "      <th>0.0</th>\n",
       "      <td>3.75</td>\n",
       "      <td>3.750000</td>\n",
       "      <td>3.750</td>\n",
       "      <td>3.75</td>\n",
       "      <td>3.75</td>\n",
       "      <td>0.000000</td>\n",
       "      <td>3.7500</td>\n",
       "      <td>3.750</td>\n",
       "      <td>3.7500</td>\n",
       "    </tr>\n",
       "  </tbody>\n",
       "</table>\n",
       "</div>"
      ],
      "text/plain": [
       "              sum      mean median   min   max       std      q1     q2  \\\n",
       "              DH1       DH1    DH1   DH1   DH1       DH1     DH1    DH1   \n",
       "KT KV  DT                                                                 \n",
       "A  1   0.0  93.75  3.232759  3.250  1.00  6.50  1.345380  2.0000  3.250   \n",
       "   2   0.0  27.50  3.437500  3.000  2.00  6.25  1.401729  2.2500  3.000   \n",
       "       6.0   4.25  4.250000  4.250  4.25  4.25  0.000000  4.2500  4.250   \n",
       "   2NT 0.0  38.00  3.454545  3.500  2.00  4.75  0.871377  2.8750  3.500   \n",
       "A1 1   0.0   4.75  2.375000  2.375  2.00  2.75  0.375000  2.1875  2.375   \n",
       "   2NT 0.0  12.75  3.187500  3.250  2.00  4.25  0.797947  2.9375  3.250   \n",
       "B  1   0.0  25.75  3.218750  3.375  1.75  4.50  0.804650  3.0000  3.375   \n",
       "   2NT 0.0   3.75  3.750000  3.750  3.75  3.75  0.000000  3.7500  3.750   \n",
       "C  1   0.0  43.50  5.437500  5.250  4.75  7.00  0.681795  5.0000  5.250   \n",
       "   2   0.0  11.50  5.750000  5.750  5.00  6.50  0.750000  5.3750  5.750   \n",
       "   2NT 0.0  24.25  6.062500  6.000  5.25  7.00  0.817294  5.2500  6.000   \n",
       "D1 1   0.0  43.75  3.645833  3.625  1.50  5.75  1.251908  2.6875  3.625   \n",
       "       1.0   3.00  3.000000  3.000  3.00  3.00  0.000000  3.0000  3.000   \n",
       "   2   0.0  32.50  4.642857  4.500  3.00  6.75  1.084445  4.1250  4.500   \n",
       "       1.0   1.25  1.250000  1.250  1.25  1.25  0.000000  1.2500  1.250   \n",
       "   2NT 0.0   3.75  3.750000  3.750  3.75  3.75  0.000000  3.7500  3.750   \n",
       "\n",
       "                q3  \n",
       "               DH1  \n",
       "KT KV  DT           \n",
       "A  1   0.0  4.2500  \n",
       "   2   0.0  4.1875  \n",
       "       6.0  4.2500  \n",
       "   2NT 0.0  4.1250  \n",
       "A1 1   0.0  2.5625  \n",
       "   2NT 0.0  3.5000  \n",
       "B  1   0.0  3.5625  \n",
       "   2NT 0.0  3.7500  \n",
       "C  1   0.0  5.4375  \n",
       "   2   0.0  6.1250  \n",
       "   2NT 0.0  6.8125  \n",
       "D1 1   0.0  4.4375  \n",
       "       1.0  3.0000  \n",
       "   2   0.0  5.0000  \n",
       "       1.0  1.2500  \n",
       "   2NT 0.0  3.7500  "
      ]
     },
     "execution_count": 8,
     "metadata": {},
     "output_type": "execute_result"
    }
   ],
   "source": [
    "pd.pivot_table(data= df, index= [\"KT\",\"KV\",\"DT\"], values=\"DH1\",aggfunc=[\"sum\", 'mean',\"median\", \"min\", \"max\", std,q1,q2,q3])"
   ]
  },
  {
   "cell_type": "markdown",
   "metadata": {},
   "source": [
    "# Phan 2 Trinh bay du lieu "
   ]
  },
  {
   "cell_type": "markdown",
   "metadata": {},
   "source": [
    "## trinh bay du lieu bien GT\n",
    "## line, bar, pie, barh, area, box,kde, ............"
   ]
  },
  {
   "cell_type": "markdown",
   "metadata": {},
   "source": [
    "## 2.1 Bieu do tan so cot\n"
   ]
  },
  {
   "cell_type": "code",
   "execution_count": 9,
   "metadata": {},
   "outputs": [
    {
     "data": {
      "text/plain": [
       "<Axes: xlabel='GT'>"
      ]
     },
     "execution_count": 9,
     "metadata": {},
     "output_type": "execute_result"
    },
    {
     "data": {
      "image/png": "[encoded data removed]",
      "text/plain": [
       "<Figure size 640x480 with 1 Axes>"
      ]
     },
     "metadata": {},
     "output_type": "display_data"
    }
   ],
   "source": [
    "gt = df.groupby(\"GT\")[\"GT\"].agg(\"count\")\n",
    "## line, bar, pie, barh, area, box,kde, ............\n",
    "# show du lieu\n",
    "gt.plot.bar() "
   ]
  },
  {
   "cell_type": "markdown",
   "metadata": {},
   "source": [
    "## bieu do tan suat tron"
   ]
  },
  {
   "cell_type": "code",
   "execution_count": 10,
   "metadata": {},
   "outputs": [
    {
     "data": {
      "text/plain": [
       "<Axes: ylabel='GT'>"
      ]
     },
     "execution_count": 10,
     "metadata": {},
     "output_type": "execute_result"
    },
    {
     "data": {
      "image/png": "[encoded data removed]",
      "text/plain": [
       "<Figure size 640x480 with 1 Axes>"
      ]
     },
     "metadata": {},
     "output_type": "display_data"
    }
   ],
   "source": [
    "# show du lieu\n",
    "gt.plot.pie()\n",
    "\n"
   ]
  },
  {
   "cell_type": "markdown",
   "metadata": {},
   "source": [
    "## 2.2 trình bày dữ liệu lần lượt các biến: US_TBM1, US_TBM2 và US_TBM3 "
   ]
  },
  {
   "cell_type": "code",
   "execution_count": 11,
   "metadata": {},
   "outputs": [
    {
     "data": {
      "text/html": [
       "<div>\n",
       "<style scoped>\n",
       "    .dataframe tbody tr th:only-of-type {\n",
       "        vertical-align: middle;\n",
       "    }\n",
       "\n",
       "    .dataframe tbody tr th {\n",
       "        vertical-align: top;\n",
       "    }\n",
       "\n",
       "    .dataframe thead th {\n",
       "        text-align: right;\n",
       "    }\n",
       "</style>\n",
       "<table border=\"1\" class=\"dataframe\">\n",
       "  <thead>\n",
       "    <tr style=\"text-align: right;\">\n",
       "      <th></th>\n",
       "      <th>US_TBM1</th>\n",
       "      <th>US_TBM2</th>\n",
       "      <th>US_TBM3</th>\n",
       "    </tr>\n",
       "  </thead>\n",
       "  <tbody>\n",
       "    <tr>\n",
       "      <th>count</th>\n",
       "      <td>100.000000</td>\n",
       "      <td>100.000000</td>\n",
       "      <td>100.000000</td>\n",
       "    </tr>\n",
       "    <tr>\n",
       "      <th>mean</th>\n",
       "      <td>2.434480</td>\n",
       "      <td>2.559600</td>\n",
       "      <td>2.538280</td>\n",
       "    </tr>\n",
       "    <tr>\n",
       "      <th>std</th>\n",
       "      <td>0.391203</td>\n",
       "      <td>0.377656</td>\n",
       "      <td>0.376149</td>\n",
       "    </tr>\n",
       "    <tr>\n",
       "      <th>min</th>\n",
       "      <td>1.616000</td>\n",
       "      <td>1.768000</td>\n",
       "      <td>1.512000</td>\n",
       "    </tr>\n",
       "    <tr>\n",
       "      <th>25%</th>\n",
       "      <td>2.107000</td>\n",
       "      <td>2.223000</td>\n",
       "      <td>2.261000</td>\n",
       "    </tr>\n",
       "    <tr>\n",
       "      <th>50%</th>\n",
       "      <td>2.480000</td>\n",
       "      <td>2.588000</td>\n",
       "      <td>2.562000</td>\n",
       "    </tr>\n",
       "    <tr>\n",
       "      <th>75%</th>\n",
       "      <td>2.724000</td>\n",
       "      <td>2.893000</td>\n",
       "      <td>2.813000</td>\n",
       "    </tr>\n",
       "    <tr>\n",
       "      <th>max</th>\n",
       "      <td>3.232000</td>\n",
       "      <td>3.416000</td>\n",
       "      <td>3.236000</td>\n",
       "    </tr>\n",
       "  </tbody>\n",
       "</table>\n",
       "</div>"
      ],
      "text/plain": [
       "          US_TBM1     US_TBM2     US_TBM3\n",
       "count  100.000000  100.000000  100.000000\n",
       "mean     2.434480    2.559600    2.538280\n",
       "std      0.391203    0.377656    0.376149\n",
       "min      1.616000    1.768000    1.512000\n",
       "25%      2.107000    2.223000    2.261000\n",
       "50%      2.480000    2.588000    2.562000\n",
       "75%      2.724000    2.893000    2.813000\n",
       "max      3.232000    3.416000    3.236000"
      ]
     },
     "execution_count": 11,
     "metadata": {},
     "output_type": "execute_result"
    }
   ],
   "source": [
    "cau22= pd.DataFrame(df, columns=[\"US_TBM1\",\"US_TBM2\",\"US_TBM3\"])\n",
    "# mo to du lieu\n",
    "cau22.describe()\n"
   ]
  },
  {
   "cell_type": "code",
   "execution_count": 12,
   "metadata": {},
   "outputs": [
    {
     "data": {
      "text/plain": [
       "<Axes: >"
      ]
     },
     "execution_count": 12,
     "metadata": {},
     "output_type": "execute_result"
    },
    {
     "data": {
      "image/png": "[encoded data removed]",
      "text/plain": [
       "<Figure size 640x480 with 1 Axes>"
      ]
     },
     "metadata": {},
     "output_type": "display_data"
    }
   ],
   "source": [
    "# show du lieu\n",
    "cau22.plot.area()"
   ]
  },
  {
   "cell_type": "markdown",
   "metadata": {},
   "source": [
    "## 2.3 trình bày dữ liệu biến DT với các học sinh là nam"
   ]
  },
  {
   "cell_type": "code",
   "execution_count": 15,
   "metadata": {},
   "outputs": [
    {
     "data": {
      "text/plain": [
       "DT\n",
       "0.0    50\n",
       "1.0     1\n",
       "6.0     1\n",
       "Name: DT, dtype: int64"
      ]
     },
     "execution_count": 15,
     "metadata": {},
     "output_type": "execute_result"
    }
   ],
   "source": [
    "cau23= df[df[\"GT\"]==\"M\"]\n",
    "# groupby(\"DT\") nhopm du lieu theo ca gia tri, [\"DT\"] chonm cot nhom đc tao, agg(\"count\") dem số luong phan tu trong nhom\n",
    "gra23=cau23.groupby(\"DT\")[\"DT\"].agg(\"count\")\n",
    "gra23"
   ]
  },
  {
   "cell_type": "code",
   "execution_count": 16,
   "metadata": {},
   "outputs": [
    {
     "data": {
      "image/png": "[encoded data removed]",
      "text/plain": [
       "<Figure size 1000x600 with 1 Axes>"
      ]
     },
     "metadata": {},
     "output_type": "display_data"
    }
   ],
   "source": [
    "# show du lieu bang thu vien matplotlib\n",
    "# cau23.plot.area()\n",
    "plt.figure(figsize=(10, 6))\n",
    "# ve bieu do bar vs mau la skyblue\n",
    "gra23.plot(kind='bar', color='skyblue')\n",
    "plt.xlabel('DH1')\n",
    "plt.ylabel('Count')\n",
    "plt.title('Count of DH1 Scores in KV = \"2NT\"')\n",
    "plt.xticks(rotation=0)\n",
    "plt.grid(axis='y')\n",
    "\n",
    "plt.show()"
   ]
  },
  {
   "cell_type": "markdown",
   "metadata": {},
   "source": [
    "## 2.4  trình bày dữ liệu biến KV với các học sinh là nam thuộc dân tộc Kinh, có điểm thỏa mãn điều kiện (DH1 >= 5.0 và DH2 >= 4.0 và DH3 >= 4.0)"
   ]
  },
  {
   "cell_type": "code",
   "execution_count": 17,
   "metadata": {},
   "outputs": [
    {
     "data": {
      "text/plain": [
       "DT\n",
       "1.0    1\n",
       "Name: DT, dtype: int64"
      ]
     },
     "execution_count": 17,
     "metadata": {},
     "output_type": "execute_result"
    }
   ],
   "source": [
    "# su ly dieu lien\n",
    "cau24 =df[(df[\"GT\"]==\"M\")& (df[\"DT\"]==1) & (df[\"DH1\"]>=3)& (df[\"DH2\"]>=4)& (df[\"DH3\"]>=4) ]\n",
    "# cau24 =df[(df[\"GT\"]==\"M\")& (df[\"DT\"]==1) & (df[\"DH1\"]>=5)& (df[\"DH2\"]>=4)& (df[\"DH3\"]>=4) ]\n",
    "#  phan nhóm groupby(\"DT\") nhopm du lieu theo ca gia tri,[\"DT\"] chonm cot nhom đc tao, agg(\"count\") dem số luong phan tu trong nhom\n",
    "gra24=cau24.groupby(\"DT\")[\"DT\"].agg(\"count\")\n",
    "gra24"
   ]
  },
  {
   "cell_type": "code",
   "execution_count": 18,
   "metadata": {},
   "outputs": [
    {
     "data": {
      "image/png": "[encoded data removed]",
      "text/plain": [
       "<Figure size 1000x600 with 1 Axes>"
      ]
     },
     "metadata": {},
     "output_type": "display_data"
    }
   ],
   "source": [
    "\n",
    "\n",
    "# cau24.plot.bar()\n",
    "\n",
    "# tạo bang vs cac gia tri de tong hop phan tich du lieu\n",
    "plt.figure(figsize=(10, 6))\n",
    "gra24.plot(kind='pie', autopct='%1.1f%%', startangle=90, colors=['skyblue'], legend=False)\n",
    "\n",
    "plt.ylabel('')\n",
    "plt.title('dữ liệu biến KV với các học sinh là nam thuộc dân tộc Kinh, có điểm thỏa mãn điều kiện (DH1 >= 3.0 và DH2 >= 4.0 và DH3 >= 4.0)')\n",
    "plt.show()"
   ]
  },
  {
   "cell_type": "markdown",
   "metadata": {},
   "source": [
    "##  2.5 dữ liệu lần lượt các biến DH1, DH2, DH3 lớn hơn bằng 5.0 và thuộc khu vực 2NT "
   ]
  },
  {
   "cell_type": "code",
   "execution_count": 19,
   "metadata": {},
   "outputs": [
    {
     "data": {
      "text/plain": [
       "DH1\n",
       "5.25    2\n",
       "6.75    1\n",
       "7.00    1\n",
       "Name: DH1, dtype: int64"
      ]
     },
     "execution_count": 19,
     "metadata": {},
     "output_type": "execute_result"
    }
   ],
   "source": [
    "cau25 =df[(df[\"DH1\"]>=5) & (df[\"KV\"]==\"2NT\")]\n",
    "#  phan nhóm groupby(\"DT\") nhopm du lieu theo ca gia tri,[\"DT\"] chonm cot nhom đc tao, agg(\"count\") dem số luong phan tu trong nhom\n",
    "gra251=cau25.groupby(\"DH1\")[\"DH1\"].agg(\"count\")\n",
    "gra251"
   ]
  },
  {
   "cell_type": "code",
   "execution_count": 20,
   "metadata": {},
   "outputs": [
    {
     "data": {
      "image/png": "[encoded data removed]",
      "text/plain": [
       "<Figure size 1000x600 with 1 Axes>"
      ]
     },
     "metadata": {},
     "output_type": "display_data"
    }
   ],
   "source": [
    "# show du lieu bang thu viren \n",
    "# cau25.plot.box()\n",
    "plt.figure(figsize=(10, 6))\n",
    "gra251.plot(kind='bar', color='skyblue')\n",
    "plt.xlabel('DH1')\n",
    "plt.ylabel('Count')\n",
    "plt.title('Dữ liệu lần lượt các biến DH1 lớn hơn bằng 5.0 và thuộc khu vực 2NT')\n",
    "plt.xticks(rotation=0)\n",
    "plt.grid(axis='y')\n",
    "\n",
    "plt.show()"
   ]
  },
  {
   "cell_type": "code",
   "execution_count": 21,
   "metadata": {},
   "outputs": [
    {
     "data": {
      "text/plain": [
       "DH2\n",
       "5.00    1\n",
       "5.25    3\n",
       "5.75    1\n",
       "8.00    1\n",
       "Name: DH2, dtype: int64"
      ]
     },
     "execution_count": 21,
     "metadata": {},
     "output_type": "execute_result"
    }
   ],
   "source": [
    "cau25 =df[(df[\"DH2\"]>=5) & (df[\"KV\"]==\"2NT\")]\n",
    "#  phan nhóm groupby(\"DH2\") nhopm du lieu theo ca gia tri,[\"DH2\"] chonm cot nhom đc tao, agg(\"count\") dem số luong phan tu trong nhom\n",
    "gra252=cau25.groupby(\"DH2\")[\"DH2\"].agg(\"count\")\n",
    "gra252"
   ]
  },
  {
   "cell_type": "code",
   "execution_count": 22,
   "metadata": {},
   "outputs": [
    {
     "data": {
      "image/png": "[encoded data removed]",
      "text/plain": [
       "<Figure size 1000x600 with 1 Axes>"
      ]
     },
     "metadata": {},
     "output_type": "display_data"
    }
   ],
   "source": [
    "# tạo bang vs cac gia tri de tong hop phan tich du lieu\n",
    "plt.figure(figsize=(10, 6))\n",
    "gra252.plot(kind='bar')\n",
    "plt.xlabel('DH2')\n",
    "plt.ylabel('Count')\n",
    "plt.title('Dữ liệu lần lượt các biến DH2 lớn hơn bằng 5.0 và thuộc khu vực 2NT')\n",
    "plt.xticks(rotation=0)\n",
    "plt.grid(axis='y')\n",
    "\n",
    "plt.show()"
   ]
  },
  {
   "cell_type": "code",
   "execution_count": 23,
   "metadata": {},
   "outputs": [
    {
     "data": {
      "text/plain": [
       "DH3\n",
       "5.0    2\n",
       "5.5    1\n",
       "6.0    1\n",
       "6.5    2\n",
       "Name: DH3, dtype: int64"
      ]
     },
     "execution_count": 23,
     "metadata": {},
     "output_type": "execute_result"
    }
   ],
   "source": [
    "cau25 =df[(df[\"DH3\"]>=5) & (df[\"KV\"]==\"2NT\")]\n",
    "gra253=cau25.groupby(\"DH3\")[\"DH3\"].agg(\"count\")\n",
    "gra253"
   ]
  },
  {
   "cell_type": "code",
   "execution_count": 24,
   "metadata": {},
   "outputs": [
    {
     "data": {
      "image/png": "[encoded data removed]",
      "text/plain": [
       "<Figure size 1000x600 with 1 Axes>"
      ]
     },
     "metadata": {},
     "output_type": "display_data"
    }
   ],
   "source": [
    "# tạo bang vs cac gia tri de tong hop phan tich du lieu\n",
    "\n",
    "# plt.figure(figsize=(10, 6))\n",
    "# gra252.plot(kind='bar')\n",
    "# plt.xlabel('DH3')\n",
    "# plt.ylabel('Count')\n",
    "# plt.title('Dữ liệu lần lượt các biến DH3 lớn hơn bằng 5.0 và thuộc khu vực 2NT')\n",
    "# plt.xticks(rotation=0)\n",
    "# plt.grid(axis='y')\n",
    "\n",
    "# plt.show()\n",
    "\n",
    "\n",
    "plt.figure(figsize=(10, 6))\n",
    "gra253.plot(kind='pie', autopct='%1.1f%%', startangle=90, colors=plt.cm.Paired(range(len(gra253))))\n",
    "\n",
    "plt.ylabel('') \n",
    "plt.title('Dữ liệu lần lượt các biến DH3 lớn hơn bằng 5.0 và thuộc khu vực 2NT')\n",
    "plt.show()"
   ]
  },
  {
   "cell_type": "markdown",
   "metadata": {},
   "source": [
    "# Phan 3 truc quan hooa du lieu theo nhom phan loai"
   ]
  },
  {
   "cell_type": "markdown",
   "metadata": {},
   "source": [
    "## 3.1 Truc quan hoa du lieu hoc sinh nu tren cac nhom XL1, XL2mXL3 dang unsracked"
   ]
  },
  {
   "cell_type": "code",
   "execution_count": 25,
   "metadata": {},
   "outputs": [
    {
     "data": {
      "text/html": [
       "<div>\n",
       "<style scoped>\n",
       "    .dataframe tbody tr th:only-of-type {\n",
       "        vertical-align: middle;\n",
       "    }\n",
       "\n",
       "    .dataframe tbody tr th {\n",
       "        vertical-align: top;\n",
       "    }\n",
       "\n",
       "    .dataframe thead tr th {\n",
       "        text-align: left;\n",
       "    }\n",
       "\n",
       "    .dataframe thead tr:last-of-type th {\n",
       "        text-align: right;\n",
       "    }\n",
       "</style>\n",
       "<table border=\"1\" class=\"dataframe\">\n",
       "  <thead>\n",
       "    <tr>\n",
       "      <th></th>\n",
       "      <th></th>\n",
       "      <th colspan=\"4\" halign=\"left\">GT</th>\n",
       "    </tr>\n",
       "    <tr>\n",
       "      <th></th>\n",
       "      <th>XL3</th>\n",
       "      <th>G</th>\n",
       "      <th>K</th>\n",
       "      <th>TB</th>\n",
       "      <th>Y</th>\n",
       "    </tr>\n",
       "    <tr>\n",
       "      <th>XL1</th>\n",
       "      <th>XL2</th>\n",
       "      <th></th>\n",
       "      <th></th>\n",
       "      <th></th>\n",
       "      <th></th>\n",
       "    </tr>\n",
       "  </thead>\n",
       "  <tbody>\n",
       "    <tr>\n",
       "      <th>G</th>\n",
       "      <th>G</th>\n",
       "      <td>1.0</td>\n",
       "      <td>NaN</td>\n",
       "      <td>NaN</td>\n",
       "      <td>NaN</td>\n",
       "    </tr>\n",
       "    <tr>\n",
       "      <th rowspan=\"3\" valign=\"top\">K</th>\n",
       "      <th>G</th>\n",
       "      <td>NaN</td>\n",
       "      <td>1.0</td>\n",
       "      <td>NaN</td>\n",
       "      <td>NaN</td>\n",
       "    </tr>\n",
       "    <tr>\n",
       "      <th>K</th>\n",
       "      <td>NaN</td>\n",
       "      <td>20.0</td>\n",
       "      <td>1.0</td>\n",
       "      <td>NaN</td>\n",
       "    </tr>\n",
       "    <tr>\n",
       "      <th>TB</th>\n",
       "      <td>NaN</td>\n",
       "      <td>NaN</td>\n",
       "      <td>2.0</td>\n",
       "      <td>NaN</td>\n",
       "    </tr>\n",
       "    <tr>\n",
       "      <th rowspan=\"2\" valign=\"top\">TB</th>\n",
       "      <th>K</th>\n",
       "      <td>NaN</td>\n",
       "      <td>6.0</td>\n",
       "      <td>3.0</td>\n",
       "      <td>NaN</td>\n",
       "    </tr>\n",
       "    <tr>\n",
       "      <th>TB</th>\n",
       "      <td>NaN</td>\n",
       "      <td>1.0</td>\n",
       "      <td>8.0</td>\n",
       "      <td>NaN</td>\n",
       "    </tr>\n",
       "    <tr>\n",
       "      <th rowspan=\"2\" valign=\"top\">Y</th>\n",
       "      <th>TB</th>\n",
       "      <td>NaN</td>\n",
       "      <td>NaN</td>\n",
       "      <td>3.0</td>\n",
       "      <td>1.0</td>\n",
       "    </tr>\n",
       "    <tr>\n",
       "      <th>Y</th>\n",
       "      <td>NaN</td>\n",
       "      <td>NaN</td>\n",
       "      <td>1.0</td>\n",
       "      <td>NaN</td>\n",
       "    </tr>\n",
       "  </tbody>\n",
       "</table>\n",
       "</div>"
      ],
      "text/plain": [
       "          GT                \n",
       "XL3        G     K   TB    Y\n",
       "XL1 XL2                     \n",
       "G   G    1.0   NaN  NaN  NaN\n",
       "K   G    NaN   1.0  NaN  NaN\n",
       "    K    NaN  20.0  1.0  NaN\n",
       "    TB   NaN   NaN  2.0  NaN\n",
       "TB  K    NaN   6.0  3.0  NaN\n",
       "    TB   NaN   1.0  8.0  NaN\n",
       "Y   TB   NaN   NaN  3.0  1.0\n",
       "    Y    NaN   NaN  1.0  NaN"
      ]
     },
     "execution_count": 25,
     "metadata": {},
     "output_type": "execute_result"
    }
   ],
   "source": [
    "# loc du lieu va gom nhomdu lieu\n",
    "cau31 = df[df[\"GT\"]==\"F\"].groupby([\"XL1\",\"XL2\",\"XL3\"])[[\"GT\"]].count()\n",
    "\n",
    "cau31.unstack()"
   ]
  },
  {
   "cell_type": "code",
   "execution_count": 26,
   "metadata": {},
   "outputs": [
    {
     "data": {
      "text/plain": [
       "<Axes: xlabel='XL1,XL2,XL3'>"
      ]
     },
     "execution_count": 26,
     "metadata": {},
     "output_type": "execute_result"
    },
    {
     "data": {
      "image/png": "[encoded data removed]",
      "text/plain": [
       "<Figure size 640x480 with 1 Axes>"
      ]
     },
     "metadata": {},
     "output_type": "display_data"
    }
   ],
   "source": [
    "# show du lieu\n",
    "cau31.plot.bar()"
   ]
  },
  {
   "cell_type": "markdown",
   "metadata": {},
   "source": [
    "## 3.2 Truc quan hoa d lieu KQXT tren nhom hoj sinh cos khoi A, A1, B, thuoc khu cub 1,2"
   ]
  },
  {
   "cell_type": "code",
   "execution_count": 27,
   "metadata": {},
   "outputs": [
    {
     "data": {
      "text/html": [
       "<div>\n",
       "<style scoped>\n",
       "    .dataframe tbody tr th:only-of-type {\n",
       "        vertical-align: middle;\n",
       "    }\n",
       "\n",
       "    .dataframe tbody tr th {\n",
       "        vertical-align: top;\n",
       "    }\n",
       "\n",
       "    .dataframe thead tr th {\n",
       "        text-align: left;\n",
       "    }\n",
       "\n",
       "    .dataframe thead tr:last-of-type th {\n",
       "        text-align: right;\n",
       "    }\n",
       "</style>\n",
       "<table border=\"1\" class=\"dataframe\">\n",
       "  <thead>\n",
       "    <tr>\n",
       "      <th></th>\n",
       "      <th colspan=\"2\" halign=\"left\">KQXT</th>\n",
       "    </tr>\n",
       "    <tr>\n",
       "      <th>KV</th>\n",
       "      <th>1</th>\n",
       "      <th>2</th>\n",
       "    </tr>\n",
       "    <tr>\n",
       "      <th>KT</th>\n",
       "      <th></th>\n",
       "      <th></th>\n",
       "    </tr>\n",
       "  </thead>\n",
       "  <tbody>\n",
       "    <tr>\n",
       "      <th>A</th>\n",
       "      <td>29.0</td>\n",
       "      <td>9.0</td>\n",
       "    </tr>\n",
       "    <tr>\n",
       "      <th>A1</th>\n",
       "      <td>2.0</td>\n",
       "      <td>NaN</td>\n",
       "    </tr>\n",
       "    <tr>\n",
       "      <th>B</th>\n",
       "      <td>8.0</td>\n",
       "      <td>NaN</td>\n",
       "    </tr>\n",
       "  </tbody>\n",
       "</table>\n",
       "</div>"
      ],
      "text/plain": [
       "    KQXT     \n",
       "KV     1    2\n",
       "KT           \n",
       "A   29.0  9.0\n",
       "A1   2.0  NaN\n",
       "B    8.0  NaN"
      ]
     },
     "execution_count": 27,
     "metadata": {},
     "output_type": "execute_result"
    }
   ],
   "source": [
    "# filter =  df[df['KT']=='A'| df['KT']=='A1' | df['KT']=='B'] & (df['KV'].isin([1, 2]))]\n",
    "# Lọc du lieu\n",
    "filter = df[((df['KT']=='A') | (df['KT']=='A1') | (df['KT']=='B')) & ((df['KV']=='1') | (df['KV']=='2'))]\n",
    "# nhan nhom\n",
    "cau32 =filter.groupby([\"KT\",\"KV\"])[[\"KQXT\"]].count()\n",
    "cau32.unstack()\n"
   ]
  },
  {
   "cell_type": "code",
   "execution_count": 28,
   "metadata": {},
   "outputs": [
    {
     "data": {
      "text/plain": [
       "<Axes: xlabel='KT,KV'>"
      ]
     },
     "execution_count": 28,
     "metadata": {},
     "output_type": "execute_result"
    },
    {
     "data": {
      "image/png": "[encoded data removed]",
      "text/plain": [
       "<Figure size 640x480 with 1 Axes>"
      ]
     },
     "metadata": {},
     "output_type": "display_data"
    }
   ],
   "source": [
    "cau32.plot.bar()"
   ]
  },
  {
   "cell_type": "markdown",
   "metadata": {},
   "source": [
    "## 3.3 Trực quan dữ liệu số lượng thí sinh từng khu vực dựa trên từng nhóm khối thi "
   ]
  },
  {
   "cell_type": "code",
   "execution_count": 29,
   "metadata": {},
   "outputs": [
    {
     "data": {
      "text/html": [
       "<div>\n",
       "<style scoped>\n",
       "    .dataframe tbody tr th:only-of-type {\n",
       "        vertical-align: middle;\n",
       "    }\n",
       "\n",
       "    .dataframe tbody tr th {\n",
       "        vertical-align: top;\n",
       "    }\n",
       "\n",
       "    .dataframe thead tr th {\n",
       "        text-align: left;\n",
       "    }\n",
       "\n",
       "    .dataframe thead tr:last-of-type th {\n",
       "        text-align: right;\n",
       "    }\n",
       "</style>\n",
       "<table border=\"1\" class=\"dataframe\">\n",
       "  <thead>\n",
       "    <tr>\n",
       "      <th></th>\n",
       "      <th colspan=\"5\" halign=\"left\">KV</th>\n",
       "    </tr>\n",
       "    <tr>\n",
       "      <th>KT</th>\n",
       "      <th>A</th>\n",
       "      <th>A1</th>\n",
       "      <th>B</th>\n",
       "      <th>C</th>\n",
       "      <th>D1</th>\n",
       "    </tr>\n",
       "    <tr>\n",
       "      <th>KV</th>\n",
       "      <th></th>\n",
       "      <th></th>\n",
       "      <th></th>\n",
       "      <th></th>\n",
       "      <th></th>\n",
       "    </tr>\n",
       "  </thead>\n",
       "  <tbody>\n",
       "    <tr>\n",
       "      <th>1</th>\n",
       "      <td>29.0</td>\n",
       "      <td>2.0</td>\n",
       "      <td>8.0</td>\n",
       "      <td>8.0</td>\n",
       "      <td>13.0</td>\n",
       "    </tr>\n",
       "    <tr>\n",
       "      <th>2</th>\n",
       "      <td>9.0</td>\n",
       "      <td>NaN</td>\n",
       "      <td>NaN</td>\n",
       "      <td>2.0</td>\n",
       "      <td>8.0</td>\n",
       "    </tr>\n",
       "    <tr>\n",
       "      <th>2NT</th>\n",
       "      <td>11.0</td>\n",
       "      <td>4.0</td>\n",
       "      <td>1.0</td>\n",
       "      <td>4.0</td>\n",
       "      <td>1.0</td>\n",
       "    </tr>\n",
       "  </tbody>\n",
       "</table>\n",
       "</div>"
      ],
      "text/plain": [
       "       KV                     \n",
       "KT      A   A1    B    C    D1\n",
       "KV                            \n",
       "1    29.0  2.0  8.0  8.0  13.0\n",
       "2     9.0  NaN  NaN  2.0   8.0\n",
       "2NT  11.0  4.0  1.0  4.0   1.0"
      ]
     },
     "execution_count": 29,
     "metadata": {},
     "output_type": "execute_result"
    }
   ],
   "source": [
    "# Lọc du lieu\n",
    "filter1 = df[((df['KT']=='A') | (df['KT']=='A1') | (df['KT']=='B')| (df['KT']=='C')| (df['KT']=='D1')) & ((df['KV']=='1') | (df['KV']=='2')| (df['KV']=='2NT'))]\n",
    "# nhan nhom\n",
    "cau33 = filter1.groupby(['KV', 'KT'])[[\"KV\"]].count()\n",
    "cau33.unstack()"
   ]
  },
  {
   "cell_type": "code",
   "execution_count": 30,
   "metadata": {},
   "outputs": [
    {
     "data": {
      "text/plain": [
       "<Axes: xlabel='KV,KT'>"
      ]
     },
     "execution_count": 30,
     "metadata": {},
     "output_type": "execute_result"
    },
    {
     "data": {
      "image/png": "[encoded data removed]",
      "text/plain": [
       "<Figure size 640x480 with 1 Axes>"
      ]
     },
     "metadata": {},
     "output_type": "display_data"
    }
   ],
   "source": [
    "# show du lieu\n",
    "cau33.plot.bar()"
   ]
  },
  {
   "cell_type": "markdown",
   "metadata": {},
   "source": [
    "## 3.4 Trực quan dữ liệu số lượng thí sinh đậu, rớt trên từng nhóm khối thi "
   ]
  },
  {
   "cell_type": "code",
   "execution_count": 31,
   "metadata": {},
   "outputs": [
    {
     "data": {
      "text/html": [
       "<div>\n",
       "<style scoped>\n",
       "    .dataframe tbody tr th:only-of-type {\n",
       "        vertical-align: middle;\n",
       "    }\n",
       "\n",
       "    .dataframe tbody tr th {\n",
       "        vertical-align: top;\n",
       "    }\n",
       "\n",
       "    .dataframe thead tr th {\n",
       "        text-align: left;\n",
       "    }\n",
       "\n",
       "    .dataframe thead tr:last-of-type th {\n",
       "        text-align: right;\n",
       "    }\n",
       "</style>\n",
       "<table border=\"1\" class=\"dataframe\">\n",
       "  <thead>\n",
       "    <tr>\n",
       "      <th></th>\n",
       "      <th colspan=\"2\" halign=\"left\">KQXT</th>\n",
       "    </tr>\n",
       "    <tr>\n",
       "      <th>KQXT</th>\n",
       "      <th>0</th>\n",
       "      <th>1</th>\n",
       "    </tr>\n",
       "    <tr>\n",
       "      <th>KT</th>\n",
       "      <th></th>\n",
       "      <th></th>\n",
       "    </tr>\n",
       "  </thead>\n",
       "  <tbody>\n",
       "    <tr>\n",
       "      <th>A</th>\n",
       "      <td>45.0</td>\n",
       "      <td>4.0</td>\n",
       "    </tr>\n",
       "    <tr>\n",
       "      <th>A1</th>\n",
       "      <td>6.0</td>\n",
       "      <td>NaN</td>\n",
       "    </tr>\n",
       "    <tr>\n",
       "      <th>B</th>\n",
       "      <td>7.0</td>\n",
       "      <td>2.0</td>\n",
       "    </tr>\n",
       "    <tr>\n",
       "      <th>C</th>\n",
       "      <td>9.0</td>\n",
       "      <td>5.0</td>\n",
       "    </tr>\n",
       "    <tr>\n",
       "      <th>D1</th>\n",
       "      <td>20.0</td>\n",
       "      <td>2.0</td>\n",
       "    </tr>\n",
       "  </tbody>\n",
       "</table>\n",
       "</div>"
      ],
      "text/plain": [
       "      KQXT     \n",
       "KQXT     0    1\n",
       "KT             \n",
       "A     45.0  4.0\n",
       "A1     6.0  NaN\n",
       "B      7.0  2.0\n",
       "C      9.0  5.0\n",
       "D1    20.0  2.0"
      ]
     },
     "execution_count": 31,
     "metadata": {},
     "output_type": "execute_result"
    }
   ],
   "source": [
    "# nhan nhom\n",
    "filter1 = df[((df['KT']=='A') | (df['KT']=='A1') | (df['KT']=='B')| (df['KT']=='C')| (df['KT']=='D1')) & ((df['KQXT']==1) | (df['KQXT']==0))]\n",
    "# nhan nhom\n",
    "cau34 = filter1.groupby(['KT', \"KQXT\"])[[\"KQXT\"]].count()\n",
    "cau34.unstack()"
   ]
  },
  {
   "cell_type": "code",
   "execution_count": 32,
   "metadata": {},
   "outputs": [
    {
     "data": {
      "text/plain": [
       "<Axes: xlabel='KT,KQXT'>"
      ]
     },
     "execution_count": 32,
     "metadata": {},
     "output_type": "execute_result"
    },
    {
     "data": {
      "image/png": "[encoded data removed]",
      "text/plain": [
       "<Figure size 640x480 with 1 Axes>"
      ]
     },
     "metadata": {},
     "output_type": "display_data"
    }
   ],
   "source": [
    "cau34.plot.bar()"
   ]
  },
  {
   "cell_type": "markdown",
   "metadata": {},
   "source": [
    "## 3.5 Trực quan dữ liệu số lượng thí sinh đậu rớt trên từng nhóm khu vực. "
   ]
  },
  {
   "cell_type": "code",
   "execution_count": 33,
   "metadata": {},
   "outputs": [
    {
     "data": {
      "text/html": [
       "<div>\n",
       "<style scoped>\n",
       "    .dataframe tbody tr th:only-of-type {\n",
       "        vertical-align: middle;\n",
       "    }\n",
       "\n",
       "    .dataframe tbody tr th {\n",
       "        vertical-align: top;\n",
       "    }\n",
       "\n",
       "    .dataframe thead tr th {\n",
       "        text-align: left;\n",
       "    }\n",
       "\n",
       "    .dataframe thead tr:last-of-type th {\n",
       "        text-align: right;\n",
       "    }\n",
       "</style>\n",
       "<table border=\"1\" class=\"dataframe\">\n",
       "  <thead>\n",
       "    <tr>\n",
       "      <th></th>\n",
       "      <th colspan=\"2\" halign=\"left\">KQXT</th>\n",
       "    </tr>\n",
       "    <tr>\n",
       "      <th>KQXT</th>\n",
       "      <th>0</th>\n",
       "      <th>1</th>\n",
       "    </tr>\n",
       "    <tr>\n",
       "      <th>KV</th>\n",
       "      <th></th>\n",
       "      <th></th>\n",
       "    </tr>\n",
       "  </thead>\n",
       "  <tbody>\n",
       "    <tr>\n",
       "      <th>1</th>\n",
       "      <td>55</td>\n",
       "      <td>5</td>\n",
       "    </tr>\n",
       "    <tr>\n",
       "      <th>2</th>\n",
       "      <td>14</td>\n",
       "      <td>5</td>\n",
       "    </tr>\n",
       "    <tr>\n",
       "      <th>2NT</th>\n",
       "      <td>18</td>\n",
       "      <td>3</td>\n",
       "    </tr>\n",
       "  </tbody>\n",
       "</table>\n",
       "</div>"
      ],
      "text/plain": [
       "     KQXT   \n",
       "KQXT    0  1\n",
       "KV          \n",
       "1      55  5\n",
       "2      14  5\n",
       "2NT    18  3"
      ]
     },
     "execution_count": 33,
     "metadata": {},
     "output_type": "execute_result"
    }
   ],
   "source": [
    "# # Lọc du lieu\n",
    "filter1 = df[((df['KV']=='1') | (df['KV']=='2')| (df['KV']=='2NT')) & ((df['KQXT']==1) | (df['KQXT']==0))]\n",
    "# nhan nhom\n",
    "cau35 = filter1.groupby(['KV', \"KQXT\"])[[\"KQXT\"]].count()\n",
    "cau35.unstack()"
   ]
  },
  {
   "cell_type": "code",
   "execution_count": 34,
   "metadata": {},
   "outputs": [
    {
     "data": {
      "text/plain": [
       "<Axes: xlabel='KV,KQXT'>"
      ]
     },
     "execution_count": 34,
     "metadata": {},
     "output_type": "execute_result"
    },
    {
     "data": {
      "image/png": "[encoded data removed]",
      "text/plain": [
       "<Figure size 640x480 with 1 Axes>"
      ]
     },
     "metadata": {},
     "output_type": "display_data"
    }
   ],
   "source": [
    "cau35.plot.bar()"
   ]
  },
  {
   "cell_type": "markdown",
   "metadata": {},
   "source": [
    "## 3.6 Trực quan dữ liệu số lượng thí sinh đậu rớt dựa trên từng nhóm dân tộc "
   ]
  },
  {
   "cell_type": "code",
   "execution_count": 35,
   "metadata": {},
   "outputs": [
    {
     "data": {
      "text/html": [
       "<div>\n",
       "<style scoped>\n",
       "    .dataframe tbody tr th:only-of-type {\n",
       "        vertical-align: middle;\n",
       "    }\n",
       "\n",
       "    .dataframe tbody tr th {\n",
       "        vertical-align: top;\n",
       "    }\n",
       "\n",
       "    .dataframe thead tr th {\n",
       "        text-align: left;\n",
       "    }\n",
       "\n",
       "    .dataframe thead tr:last-of-type th {\n",
       "        text-align: right;\n",
       "    }\n",
       "</style>\n",
       "<table border=\"1\" class=\"dataframe\">\n",
       "  <thead>\n",
       "    <tr>\n",
       "      <th></th>\n",
       "      <th colspan=\"2\" halign=\"left\">KQXT</th>\n",
       "    </tr>\n",
       "    <tr>\n",
       "      <th>KQXT</th>\n",
       "      <th>0</th>\n",
       "      <th>1</th>\n",
       "    </tr>\n",
       "    <tr>\n",
       "      <th>DT</th>\n",
       "      <th></th>\n",
       "      <th></th>\n",
       "    </tr>\n",
       "  </thead>\n",
       "  <tbody>\n",
       "    <tr>\n",
       "      <th>0.0</th>\n",
       "      <td>84.0</td>\n",
       "      <td>13.0</td>\n",
       "    </tr>\n",
       "    <tr>\n",
       "      <th>1.0</th>\n",
       "      <td>2.0</td>\n",
       "      <td>NaN</td>\n",
       "    </tr>\n",
       "  </tbody>\n",
       "</table>\n",
       "</div>"
      ],
      "text/plain": [
       "      KQXT      \n",
       "KQXT     0     1\n",
       "DT              \n",
       "0.0   84.0  13.0\n",
       "1.0    2.0   NaN"
      ]
     },
     "execution_count": 35,
     "metadata": {},
     "output_type": "execute_result"
    }
   ],
   "source": [
    "#  # Lọc du lieu\n",
    "filter1 = df[((df['DT']==1) | (df['DT']==0)) & ((df['KQXT']==1) | (df['KQXT']==0))]\n",
    "# nhan nhom\n",
    "cau36 = filter1.groupby(['DT', \"KQXT\"])[[\"KQXT\"]].count()\n",
    "cau36.unstack()"
   ]
  },
  {
   "cell_type": "code",
   "execution_count": 36,
   "metadata": {},
   "outputs": [
    {
     "data": {
      "text/plain": [
       "<Axes: xlabel='DT,KQXT'>"
      ]
     },
     "execution_count": 36,
     "metadata": {},
     "output_type": "execute_result"
    },
    {
     "data": {
      "image/png": "[encoded data removed]",
      "text/plain": [
       "<Figure size 640x480 with 1 Axes>"
      ]
     },
     "metadata": {},
     "output_type": "display_data"
    }
   ],
   "source": [
    "cau36.plot.bar()"
   ]
  },
  {
   "cell_type": "markdown",
   "metadata": {},
   "source": [
    "## 3.7 Trực quan dữ liệu số lượng thí sinh đậu rớt dựa trên từng nhóm giới tính. "
   ]
  },
  {
   "cell_type": "code",
   "execution_count": 37,
   "metadata": {},
   "outputs": [
    {
     "data": {
      "text/html": [
       "<div>\n",
       "<style scoped>\n",
       "    .dataframe tbody tr th:only-of-type {\n",
       "        vertical-align: middle;\n",
       "    }\n",
       "\n",
       "    .dataframe tbody tr th {\n",
       "        vertical-align: top;\n",
       "    }\n",
       "\n",
       "    .dataframe thead tr th {\n",
       "        text-align: left;\n",
       "    }\n",
       "\n",
       "    .dataframe thead tr:last-of-type th {\n",
       "        text-align: right;\n",
       "    }\n",
       "</style>\n",
       "<table border=\"1\" class=\"dataframe\">\n",
       "  <thead>\n",
       "    <tr>\n",
       "      <th></th>\n",
       "      <th colspan=\"2\" halign=\"left\">KQXT</th>\n",
       "    </tr>\n",
       "    <tr>\n",
       "      <th>KQXT</th>\n",
       "      <th>0</th>\n",
       "      <th>1</th>\n",
       "    </tr>\n",
       "    <tr>\n",
       "      <th>GT</th>\n",
       "      <th></th>\n",
       "      <th></th>\n",
       "    </tr>\n",
       "  </thead>\n",
       "  <tbody>\n",
       "    <tr>\n",
       "      <th>F</th>\n",
       "      <td>43</td>\n",
       "      <td>5</td>\n",
       "    </tr>\n",
       "    <tr>\n",
       "      <th>M</th>\n",
       "      <td>44</td>\n",
       "      <td>8</td>\n",
       "    </tr>\n",
       "  </tbody>\n",
       "</table>\n",
       "</div>"
      ],
      "text/plain": [
       "     KQXT   \n",
       "KQXT    0  1\n",
       "GT          \n",
       "F      43  5\n",
       "M      44  8"
      ]
     },
     "execution_count": 37,
     "metadata": {},
     "output_type": "execute_result"
    }
   ],
   "source": [
    "# Lọc du lieu\n",
    "filter1 = df[((df['GT']==\"F\") | (df['GT']==\"M\")) & ((df['KQXT']==1) | (df['KQXT']==0))]\n",
    "# nhan nhom\n",
    "cau37 = filter1.groupby(['GT', \"KQXT\"])[[\"KQXT\"]].count()\n",
    "cau37.unstack()"
   ]
  },
  {
   "cell_type": "code",
   "execution_count": 38,
   "metadata": {},
   "outputs": [
    {
     "data": {
      "text/plain": [
       "<Axes: xlabel='GT,KQXT'>"
      ]
     },
     "execution_count": 38,
     "metadata": {},
     "output_type": "execute_result"
    },
    {
     "data": {
      "image/png": "[encoded data removed]",
      "text/plain": [
       "<Figure size 640x480 with 1 Axes>"
      ]
     },
     "metadata": {},
     "output_type": "display_data"
    }
   ],
   "source": [
    "# shw du lieu\n",
    "cau37.plot.bar()"
   ]
  },
  {
   "cell_type": "markdown",
   "metadata": {},
   "source": [
    "# Phần 4: Trực quan hóa dữ liệu nâng cao "
   ]
  },
  {
   "cell_type": "markdown",
   "metadata": {},
   "source": [
    "## 4.1 Vẽ biểu đồ đường Simple cho biến T1 "
   ]
  },
  {
   "cell_type": "code",
   "execution_count": 39,
   "metadata": {},
   "outputs": [
    {
     "data": {
      "text/plain": [
       "<Axes: xlabel='T1'>"
      ]
     },
     "execution_count": 39,
     "metadata": {},
     "output_type": "execute_result"
    },
    {
     "data": {
      "image/png": "[encoded data removed]",
      "text/plain": [
       "<Figure size 640x480 with 1 Axes>"
      ]
     },
     "metadata": {},
     "output_type": "display_data"
    }
   ],
   "source": [
    "# phan nhom du lieu\n",
    "df.groupby(\"T1\")[\"T1\"].count().plot()"
   ]
  },
  {
   "cell_type": "markdown",
   "metadata": {},
   "source": [
    "## 4.2Hãy tạo biến phân loại (phanlopt1) cho môn toán (T1) "
   ]
  },
  {
   "cell_type": "code",
   "execution_count": 40,
   "metadata": {},
   "outputs": [],
   "source": [
    "df.loc[(df[\"T1\"]<5), \"phanlop1\"]=\"kem\"\n",
    "df.loc[(df[\"T1\"]>=5)& (df[\"T1\"]<7) , \"phanlop1\"]=\"TB\"\n",
    "df.loc[(df[\"T1\"]<8) & (df[\"T1\"]>=7), \"phanlop1\"]=\"k\"\n",
    "df.loc[(df[\"T1\"]>=8), \"phanlop1\"]=\"g\""
   ]
  },
  {
   "cell_type": "code",
   "execution_count": 41,
   "metadata": {},
   "outputs": [
    {
     "data": {
      "text/html": [
       "<div>\n",
       "<style scoped>\n",
       "    .dataframe tbody tr th:only-of-type {\n",
       "        vertical-align: middle;\n",
       "    }\n",
       "\n",
       "    .dataframe tbody tr th {\n",
       "        vertical-align: top;\n",
       "    }\n",
       "\n",
       "    .dataframe thead th {\n",
       "        text-align: right;\n",
       "    }\n",
       "</style>\n",
       "<table border=\"1\" class=\"dataframe\">\n",
       "  <thead>\n",
       "    <tr style=\"text-align: right;\">\n",
       "      <th></th>\n",
       "      <th>STT</th>\n",
       "      <th>T1</th>\n",
       "      <th>L1</th>\n",
       "      <th>H1</th>\n",
       "      <th>S1</th>\n",
       "      <th>V1</th>\n",
       "      <th>X1</th>\n",
       "      <th>D1</th>\n",
       "      <th>N1</th>\n",
       "      <th>T2</th>\n",
       "      <th>...</th>\n",
       "      <th>TBM2</th>\n",
       "      <th>TBM3</th>\n",
       "      <th>XL1</th>\n",
       "      <th>XL2</th>\n",
       "      <th>XL3</th>\n",
       "      <th>US_TBM1</th>\n",
       "      <th>US_TBM2</th>\n",
       "      <th>US_TBM3</th>\n",
       "      <th>KQXT</th>\n",
       "      <th>phanlop1</th>\n",
       "    </tr>\n",
       "  </thead>\n",
       "  <tbody>\n",
       "    <tr>\n",
       "      <th>0</th>\n",
       "      <td>1</td>\n",
       "      <td>7.2</td>\n",
       "      <td>7.3</td>\n",
       "      <td>6.3</td>\n",
       "      <td>7.3</td>\n",
       "      <td>7.0</td>\n",
       "      <td>7.9</td>\n",
       "      <td>7.3</td>\n",
       "      <td>5.5</td>\n",
       "      <td>8.4</td>\n",
       "      <td>...</td>\n",
       "      <td>7.54</td>\n",
       "      <td>7.06</td>\n",
       "      <td>K</td>\n",
       "      <td>K</td>\n",
       "      <td>K</td>\n",
       "      <td>2.800</td>\n",
       "      <td>3.016</td>\n",
       "      <td>2.824</td>\n",
       "      <td>0</td>\n",
       "      <td>k</td>\n",
       "    </tr>\n",
       "    <tr>\n",
       "      <th>1</th>\n",
       "      <td>2</td>\n",
       "      <td>5.4</td>\n",
       "      <td>3.9</td>\n",
       "      <td>3.9</td>\n",
       "      <td>4.0</td>\n",
       "      <td>5.4</td>\n",
       "      <td>5.4</td>\n",
       "      <td>5.3</td>\n",
       "      <td>2.8</td>\n",
       "      <td>6.3</td>\n",
       "      <td>...</td>\n",
       "      <td>5.47</td>\n",
       "      <td>4.70</td>\n",
       "      <td>Y</td>\n",
       "      <td>TB</td>\n",
       "      <td>Y</td>\n",
       "      <td>1.876</td>\n",
       "      <td>2.188</td>\n",
       "      <td>1.880</td>\n",
       "      <td>0</td>\n",
       "      <td>TB</td>\n",
       "    </tr>\n",
       "    <tr>\n",
       "      <th>2</th>\n",
       "      <td>3</td>\n",
       "      <td>5.6</td>\n",
       "      <td>6.8</td>\n",
       "      <td>7.2</td>\n",
       "      <td>7.5</td>\n",
       "      <td>4.3</td>\n",
       "      <td>7.4</td>\n",
       "      <td>5.8</td>\n",
       "      <td>3.2</td>\n",
       "      <td>5.0</td>\n",
       "      <td>...</td>\n",
       "      <td>5.38</td>\n",
       "      <td>4.33</td>\n",
       "      <td>TB</td>\n",
       "      <td>TB</td>\n",
       "      <td>Y</td>\n",
       "      <td>2.308</td>\n",
       "      <td>2.152</td>\n",
       "      <td>1.732</td>\n",
       "      <td>1</td>\n",
       "      <td>TB</td>\n",
       "    </tr>\n",
       "    <tr>\n",
       "      <th>3</th>\n",
       "      <td>4</td>\n",
       "      <td>6.6</td>\n",
       "      <td>6.4</td>\n",
       "      <td>5.3</td>\n",
       "      <td>6.9</td>\n",
       "      <td>5.4</td>\n",
       "      <td>7.3</td>\n",
       "      <td>6.4</td>\n",
       "      <td>5.8</td>\n",
       "      <td>5.1</td>\n",
       "      <td>...</td>\n",
       "      <td>5.20</td>\n",
       "      <td>6.03</td>\n",
       "      <td>TB</td>\n",
       "      <td>TB</td>\n",
       "      <td>TB</td>\n",
       "      <td>2.484</td>\n",
       "      <td>2.080</td>\n",
       "      <td>2.412</td>\n",
       "      <td>0</td>\n",
       "      <td>TB</td>\n",
       "    </tr>\n",
       "    <tr>\n",
       "      <th>4</th>\n",
       "      <td>5</td>\n",
       "      <td>6.0</td>\n",
       "      <td>5.0</td>\n",
       "      <td>6.0</td>\n",
       "      <td>7.3</td>\n",
       "      <td>6.5</td>\n",
       "      <td>7.7</td>\n",
       "      <td>7.9</td>\n",
       "      <td>6.1</td>\n",
       "      <td>5.4</td>\n",
       "      <td>...</td>\n",
       "      <td>6.36</td>\n",
       "      <td>7.01</td>\n",
       "      <td>K</td>\n",
       "      <td>TB</td>\n",
       "      <td>K</td>\n",
       "      <td>2.600</td>\n",
       "      <td>2.544</td>\n",
       "      <td>2.804</td>\n",
       "      <td>0</td>\n",
       "      <td>TB</td>\n",
       "    </tr>\n",
       "    <tr>\n",
       "      <th>5</th>\n",
       "      <td>6</td>\n",
       "      <td>9.3</td>\n",
       "      <td>7.6</td>\n",
       "      <td>7.9</td>\n",
       "      <td>8.6</td>\n",
       "      <td>7.0</td>\n",
       "      <td>7.3</td>\n",
       "      <td>7.7</td>\n",
       "      <td>7.9</td>\n",
       "      <td>9.6</td>\n",
       "      <td>...</td>\n",
       "      <td>8.54</td>\n",
       "      <td>7.82</td>\n",
       "      <td>K</td>\n",
       "      <td>G</td>\n",
       "      <td>K</td>\n",
       "      <td>3.184</td>\n",
       "      <td>3.416</td>\n",
       "      <td>3.128</td>\n",
       "      <td>0</td>\n",
       "      <td>g</td>\n",
       "    </tr>\n",
       "    <tr>\n",
       "      <th>6</th>\n",
       "      <td>7</td>\n",
       "      <td>2.8</td>\n",
       "      <td>3.9</td>\n",
       "      <td>5.5</td>\n",
       "      <td>6.9</td>\n",
       "      <td>5.0</td>\n",
       "      <td>7.3</td>\n",
       "      <td>4.6</td>\n",
       "      <td>5.2</td>\n",
       "      <td>4.4</td>\n",
       "      <td>...</td>\n",
       "      <td>5.60</td>\n",
       "      <td>5.24</td>\n",
       "      <td>Y</td>\n",
       "      <td>TB</td>\n",
       "      <td>TB</td>\n",
       "      <td>1.960</td>\n",
       "      <td>2.240</td>\n",
       "      <td>2.096</td>\n",
       "      <td>1</td>\n",
       "      <td>kem</td>\n",
       "    </tr>\n",
       "    <tr>\n",
       "      <th>7</th>\n",
       "      <td>8</td>\n",
       "      <td>8.3</td>\n",
       "      <td>6.0</td>\n",
       "      <td>7.6</td>\n",
       "      <td>5.1</td>\n",
       "      <td>7.5</td>\n",
       "      <td>4.7</td>\n",
       "      <td>5.8</td>\n",
       "      <td>7.2</td>\n",
       "      <td>6.7</td>\n",
       "      <td>...</td>\n",
       "      <td>6.87</td>\n",
       "      <td>6.95</td>\n",
       "      <td>K</td>\n",
       "      <td>K</td>\n",
       "      <td>K</td>\n",
       "      <td>2.720</td>\n",
       "      <td>2.748</td>\n",
       "      <td>2.780</td>\n",
       "      <td>0</td>\n",
       "      <td>g</td>\n",
       "    </tr>\n",
       "    <tr>\n",
       "      <th>8</th>\n",
       "      <td>9</td>\n",
       "      <td>6.5</td>\n",
       "      <td>6.3</td>\n",
       "      <td>7.6</td>\n",
       "      <td>6.0</td>\n",
       "      <td>5.5</td>\n",
       "      <td>7.1</td>\n",
       "      <td>6.3</td>\n",
       "      <td>5.0</td>\n",
       "      <td>7.3</td>\n",
       "      <td>...</td>\n",
       "      <td>6.72</td>\n",
       "      <td>6.59</td>\n",
       "      <td>TB</td>\n",
       "      <td>K</td>\n",
       "      <td>K</td>\n",
       "      <td>2.492</td>\n",
       "      <td>2.688</td>\n",
       "      <td>2.636</td>\n",
       "      <td>0</td>\n",
       "      <td>TB</td>\n",
       "    </tr>\n",
       "    <tr>\n",
       "      <th>9</th>\n",
       "      <td>10</td>\n",
       "      <td>7.3</td>\n",
       "      <td>5.9</td>\n",
       "      <td>4.7</td>\n",
       "      <td>7.1</td>\n",
       "      <td>6.7</td>\n",
       "      <td>7.9</td>\n",
       "      <td>6.7</td>\n",
       "      <td>7.7</td>\n",
       "      <td>8.0</td>\n",
       "      <td>...</td>\n",
       "      <td>7.25</td>\n",
       "      <td>7.12</td>\n",
       "      <td>K</td>\n",
       "      <td>K</td>\n",
       "      <td>K</td>\n",
       "      <td>2.720</td>\n",
       "      <td>2.900</td>\n",
       "      <td>2.848</td>\n",
       "      <td>0</td>\n",
       "      <td>k</td>\n",
       "    </tr>\n",
       "  </tbody>\n",
       "</table>\n",
       "<p>10 rows × 67 columns</p>\n",
       "</div>"
      ],
      "text/plain": [
       "   STT   T1   L1   H1   S1   V1   X1   D1   N1   T2  ...  TBM2  TBM3  XL1  \\\n",
       "0    1  7.2  7.3  6.3  7.3  7.0  7.9  7.3  5.5  8.4  ...  7.54  7.06    K   \n",
       "1    2  5.4  3.9  3.9  4.0  5.4  5.4  5.3  2.8  6.3  ...  5.47  4.70    Y   \n",
       "2    3  5.6  6.8  7.2  7.5  4.3  7.4  5.8  3.2  5.0  ...  5.38  4.33   TB   \n",
       "3    4  6.6  6.4  5.3  6.9  5.4  7.3  6.4  5.8  5.1  ...  5.20  6.03   TB   \n",
       "4    5  6.0  5.0  6.0  7.3  6.5  7.7  7.9  6.1  5.4  ...  6.36  7.01    K   \n",
       "5    6  9.3  7.6  7.9  8.6  7.0  7.3  7.7  7.9  9.6  ...  8.54  7.82    K   \n",
       "6    7  2.8  3.9  5.5  6.9  5.0  7.3  4.6  5.2  4.4  ...  5.60  5.24    Y   \n",
       "7    8  8.3  6.0  7.6  5.1  7.5  4.7  5.8  7.2  6.7  ...  6.87  6.95    K   \n",
       "8    9  6.5  6.3  7.6  6.0  5.5  7.1  6.3  5.0  7.3  ...  6.72  6.59   TB   \n",
       "9   10  7.3  5.9  4.7  7.1  6.7  7.9  6.7  7.7  8.0  ...  7.25  7.12    K   \n",
       "\n",
       "   XL2  XL3  US_TBM1  US_TBM2  US_TBM3  KQXT  phanlop1  \n",
       "0    K    K    2.800    3.016    2.824     0         k  \n",
       "1   TB    Y    1.876    2.188    1.880     0        TB  \n",
       "2   TB    Y    2.308    2.152    1.732     1        TB  \n",
       "3   TB   TB    2.484    2.080    2.412     0        TB  \n",
       "4   TB    K    2.600    2.544    2.804     0        TB  \n",
       "5    G    K    3.184    3.416    3.128     0         g  \n",
       "6   TB   TB    1.960    2.240    2.096     1       kem  \n",
       "7    K    K    2.720    2.748    2.780     0         g  \n",
       "8    K    K    2.492    2.688    2.636     0        TB  \n",
       "9    K    K    2.720    2.900    2.848     0         k  \n",
       "\n",
       "[10 rows x 67 columns]"
      ]
     },
     "execution_count": 41,
     "metadata": {},
     "output_type": "execute_result"
    }
   ],
   "source": [
    "df.head(10)"
   ]
  },
  {
   "cell_type": "markdown",
   "metadata": {},
   "source": [
    "## 4.3Lập bảng tần số cho biến phanloait1"
   ]
  },
  {
   "cell_type": "code",
   "execution_count": 73,
   "metadata": {},
   "outputs": [
    {
     "data": {
      "text/plain": [
       "<Axes: xlabel='phanlop1'>"
      ]
     },
     "execution_count": 73,
     "metadata": {},
     "output_type": "execute_result"
    },
    {
     "data": {
      "image/png": "[encoded data removed]",
      "text/plain": [
       "<Figure size 640x480 with 1 Axes>"
      ]
     },
     "metadata": {},
     "output_type": "display_data"
    }
   ],
   "source": [
    "df.groupby(\"phanlop1\")[\"phanlop1\"].count().plot()"
   ]
  },
  {
   "cell_type": "markdown",
   "metadata": {},
   "source": [
    "## 4.4 Vẽ biểu đồ đường Multiple Line cho biến T1 được phân loại bởi biến phanlopt1 "
   ]
  },
  {
   "cell_type": "code",
   "execution_count": 58,
   "metadata": {},
   "outputs": [
    {
     "data": {
      "image/png": "[encoded data removed]",
      "text/plain": [
       "<Figure size 640x480 with 1 Axes>"
      ]
     },
     "metadata": {},
     "output_type": "display_data"
    }
   ],
   "source": [
    "df_grouped = df.groupby(['T1', 'phanlop1']).size().unstack(fill_value=0)\n",
    "# show du lieu bang thu vien matplotlib\n",
    "df_grouped.plot(kind='line', marker='o')\n",
    "plt.xlabel('T1')\n",
    "plt.ylabel('Count')\n",
    "plt.legend(title='phanlop1')\n",
    "plt.grid(True)\n",
    "plt.show()"
   ]
  },
  {
   "cell_type": "markdown",
   "metadata": {},
   "source": [
    "## 4.5 Vẽ biểu đồ Drop-line cho biến T1 được phân loại bởi biến phanlopt1 "
   ]
  },
  {
   "cell_type": "code",
   "execution_count": 60,
   "metadata": {},
   "outputs": [
    {
     "data": {
      "image/png": "[encoded data removed]",
      "text/plain": [
       "<Figure size 640x480 with 1 Axes>"
      ]
     },
     "metadata": {},
     "output_type": "display_data"
    }
   ],
   "source": [
    "df_45= df.groupby(['T1', 'phanlop1']).size().unstack(fill_value=0)\n",
    "\n",
    "fig, ax = plt.subplots()\n",
    "for column in df_45.columns:\n",
    "    ax.stem(df_45.index, df_45[column], markerfmt='o', label=f'phanlop1: {column}')\n",
    "\n",
    "plt.xlabel('T1')\n",
    "plt.ylabel('Count')\n",
    "plt.legend(title='phanlop1')\n",
    "plt.grid(True)\n",
    "plt.show()"
   ]
  },
  {
   "cell_type": "markdown",
   "metadata": {},
   "source": [
    "# Phần 5: Mô tả dữ liệu và khảo sát dạng phân phối "
   ]
  },
  {
   "cell_type": "markdown",
   "metadata": {},
   "source": [
    "## 5.1 Hãy mô tả và khảo sát phân phối cho biến T1 "
   ]
  },
  {
   "cell_type": "code",
   "execution_count": 65,
   "metadata": {},
   "outputs": [
    {
     "data": {
      "text/plain": [
       "count    100.000000\n",
       "mean       5.946000\n",
       "std        1.608338\n",
       "min        2.400000\n",
       "25%        5.000000\n",
       "50%        5.850000\n",
       "75%        7.200000\n",
       "max        9.300000\n",
       "Name: T1, dtype: float64"
      ]
     },
     "execution_count": 65,
     "metadata": {},
     "output_type": "execute_result"
    }
   ],
   "source": [
    "# mo ta du lieu\n",
    "t1_des = df['T1'].describe()\n",
    "t1_des"
   ]
  },
  {
   "cell_type": "code",
   "execution_count": 64,
   "metadata": {},
   "outputs": [
    {
     "data": {
      "image/png": "[encoded data removed]",
      "text/plain": [
       "<Figure size 1000x600 with 1 Axes>"
      ]
     },
     "metadata": {},
     "output_type": "display_data"
    }
   ],
   "source": [
    "# show du lieu bang thu vien matplotlib\n",
    "plt.figure(figsize=(10, 6))\n",
    "sns.boxplot(x=df['T1'])\n",
    "plt.title('Box-Plot of T1')\n",
    "plt.show()"
   ]
  },
  {
   "cell_type": "code",
   "execution_count": 67,
   "metadata": {},
   "outputs": [
    {
     "data": {
      "image/png": "[encoded data removed]",
      "text/plain": [
       "<Figure size 1000x600 with 1 Axes>"
      ]
     },
     "metadata": {},
     "output_type": "display_data"
    }
   ],
   "source": [
    "# Vẽ biểu đồ Histogram \n",
    "plt.figure(figsize=(10, 6))\n",
    "sns.histplot(df['T1'], bins=30, kde=True)\n",
    "plt.title('Histogram of T1')\n",
    "plt.xlabel('T1')\n",
    "plt.ylabel('Frequency')\n",
    "plt.show()\n"
   ]
  },
  {
   "cell_type": "markdown",
   "metadata": {},
   "source": [
    "## 5.2 Hãy mô tả và khảo sát phân phối cho biến T1 trên từng nhóm phân lớp (phanlopT1)"
   ]
  },
  {
   "cell_type": "code",
   "execution_count": 70,
   "metadata": {},
   "outputs": [
    {
     "data": {
      "image/png": "[encoded data removed]",
      "text/plain": [
       "<Figure size 1200x800 with 1 Axes>"
      ]
     },
     "metadata": {},
     "output_type": "display_data"
    }
   ],
   "source": [
    "# show du lieu bang thu vien matplotlib\n",
    "plt.figure(figsize=(12, 8))\n",
    "sns.boxplot(x='phanlop1', y='T1', data=df)\n",
    "plt.title('Box-Plot of T1 by phanlopT1')\n",
    "plt.xlabel('phanlop1')\n",
    "plt.ylabel('T1')\n",
    "plt.grid(True)\n",
    "plt.show()"
   ]
  },
  {
   "cell_type": "code",
   "execution_count": 71,
   "metadata": {},
   "outputs": [
    {
     "name": "stderr",
     "output_type": "stream",
     "text": [
      "d:\\ancoda\\Lib\\site-packages\\seaborn\\axisgrid.py:118: UserWarning: The figure layout has changed to tight\n",
      "  self._figure.tight_layout(*args, **kwargs)\n"
     ]
    },
    {
     "data": {
      "image/png": "[encoded data removed]",
      "text/plain": [
       "<Figure size 1600x400 with 4 Axes>"
      ]
     },
     "metadata": {},
     "output_type": "display_data"
    }
   ],
   "source": [
    "g = sns.FacetGrid(df, col=\"phanlop1\", col_wrap=4, height=4, sharex=False, sharey=False)\n",
    "g.map(sns.histplot, 'T1', bins=30, kde=True)\n",
    "g.set_axis_labels(\"T1\", \"Frequency\")\n",
    "g.fig.suptitle('Histogram of T1 by phanlopT1', y=1.05)\n",
    "plt.show()\n"
   ]
  }
 ],
 "metadata": {
  "kernelspec": {
   "display_name": "base",
   "language": "python",
   "name": "python3"
  },
  "language_info": {
   "codemirror_mode": {
    "name": "ipython",
    "version": 3
   },
   "file_extension": ".py",
   "mimetype": "text/x-python",
   "name": "python",
   "nbconvert_exporter": "python",
   "pygments_lexer": "ipython3",
   "version": "3.11.5"
  }
 },
 "nbformat": 4,
 "nbformat_minor": 2
}
